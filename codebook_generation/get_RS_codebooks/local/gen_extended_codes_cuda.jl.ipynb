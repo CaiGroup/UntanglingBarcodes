{
 "cells": [
  {
   "cell_type": "code",
   "execution_count": 1,
   "metadata": {
    "scrolled": true
   },
   "outputs": [
    {
     "name": "stderr",
     "output_type": "stream",
     "text": [
      "\u001b[32m\u001b[1m  Activating\u001b[22m\u001b[39m project at `d:\\SeqFISH+Processing_project\\UntanglingBarcodes\\codebook_generation\\get_RS_codebooks\\local`\n"
     ]
    }
   ],
   "source": [
    "using Pkg\n",
    "Pkg.activate(\".\") # Activate saved environment with compatible depenency versions\n",
    "Pkg.instantiate()\n",
    "using Nemo\n",
    "using SharedArrays\n",
    "using CUDA\n",
    "using LinearAlgebra\n",
    "using Combinatorics\n",
    "using Test\n",
    "using DataFrames\n",
    "using CSV\n"
   ]
  },
  {
   "cell_type": "markdown",
   "metadata": {},
   "source": [
    "This notebook shows how to generate codebooks for seqFISH experiments using [Reed-Solomon Codes](https://en.wikipedia.org/wiki/Reed%E2%80%93Solomon_error_correction). Reed-Solomon are part of a special class of error-correcting codes called [Maximum Distance Separable codes](https://en.wikipedia.org/wiki/Singleton_bound#MDS_codes) (MDS code) which achieve equality in the [Singleton bound](https://en.wikipedia.org/wiki/Singleton_bound). This means that MDS codes acheive the maximum possible extra difference between their codewords from every redundant parity check symbol, and gain the the most possible robustless to error for the increased cost of encoding information with more symbols.\n",
    "\n",
    "The number of codewords of a given weight in an MDS code weight is given by the the expression \n",
    "\n",
    "$(q-1)\\binom{w}{n}\\sum_{i=0}^{w-d}(-1)^i \\binom{i}{w-1}q^{w-d-i}$\n",
    "\n",
    "(Macwilliams and Sloan)"
   ]
  },
  {
   "cell_type": "markdown",
   "metadata": {},
   "source": [
    "## First, enter the parameters for the Reed-Solomon Code that you want."
   ]
  },
  {
   "cell_type": "code",
   "execution_count": 2,
   "metadata": {},
   "outputs": [
    {
     "data": {
      "text/plain": [
       "2"
      ]
     },
     "metadata": {},
     "output_type": "display_data"
    }
   ],
   "source": [
    "q = 13\n",
    "deg = 1\n",
    "nmk = 3\n",
    "wmax = 4\n",
    "wmin=2"
   ]
  },
  {
   "cell_type": "code",
   "execution_count": 3,
   "metadata": {},
   "outputs": [
    {
     "data": {
      "text/plain": [
       "get_num_codewords_of_weight_vn (generic function with 1 method)"
      ]
     },
     "metadata": {},
     "output_type": "display_data"
    }
   ],
   "source": [
    "function get_num_codewords_of_weight_vn(q,n,w,d)\n",
    "    i = collect(0:(w-d))\n",
    "    (q-1)*binomial(n,w)*sum(((-1) .^ i) .* (binomial.(w-1, i)) .* (q .^ ((w - d) .- i)))\n",
    "end"
   ]
  },
  {
   "cell_type": "markdown",
   "metadata": {},
   "source": [
    "Reed-Solomon codes are constructed using abstract algebra. In this construction, codewords of a Reed-Solomon code are polynomials from a [polynomial ring](https://en.wikipedia.org/wiki/Polynomial_ring) with coefficients from a [finite field](https://en.wikipedia.org/wiki/Finite_field). The code polynomials of a Reed-Solomon code are multiples of the generator polynomial of the Reed-Solomon code. We denote the order of the finite field as $q$ and the length of codewords in the field as $n$. In this notebook, we use the open source package, [Jump.jl](http://nemocas.github.io/Nemo.jl/latest/), to do abstract algebra computations. First, we define the algebraic objects that we are working with:"
   ]
  },
  {
   "cell_type": "code",
   "execution_count": 4,
   "metadata": {},
   "outputs": [
    {
     "data": {
      "text/plain": [
       "cvt_fq_nmod_2_int (generic function with 1 method)"
      ]
     },
     "metadata": {},
     "output_type": "display_data"
    }
   ],
   "source": [
    "function def_RS_code(_q :: Int64, deg :: Int64, nmk :: Int64)\n",
    "    @assert is_prime(_q)\n",
    "    global q = _q\n",
    "    global q_uint8 = UInt8(q)\n",
    "    global n = q-1\n",
    "    global k = (q-1) - nmk\n",
    "    F, α = FiniteField(q, deg, \"α\")\n",
    "    R, x = PolynomialRing(F, \"x\")\n",
    "    RR =  ResidueRing(R, x^(q^deg-1)-1)\n",
    "    gp = 1\n",
    "    for i = 1:nmk\n",
    "        gp = gp*RR(x - α^i)\n",
    "    end\n",
    "    return F, RR, R, gp, x, α\n",
    "end\n",
    "\n",
    "\n",
    "function cvt_fq_nmod_2_int(x::fq_nmod)\n",
    "    if iszero(x)\n",
    "        return 0\n",
    "    end\n",
    "    for i = 1:(q-1)\n",
    "        if iszero(i+x)\n",
    "            return q-i\n",
    "        end\n",
    "    end \n",
    "end"
   ]
  },
  {
   "cell_type": "code",
   "execution_count": 5,
   "metadata": {},
   "outputs": [
    {
     "data": {
      "text/plain": [
       "(Finite field of degree 1 over GF(13), Residue ring of univariate polynomial ring modulo x^12 + 12, Univariate polynomial ring in x over GF(13), x^3 + 12*x^2 + 4*x + 1, x, 2)"
      ]
     },
     "metadata": {},
     "output_type": "display_data"
    }
   ],
   "source": [
    "F, RR, R, gp, x, α = def_RS_code(q,deg,nmk)"
   ]
  },
  {
   "cell_type": "code",
   "execution_count": 6,
   "metadata": {},
   "outputs": [
    {
     "data": {
      "text/html": [
       "x^3 + 12*x^2 + 4*x + 1"
      ],
      "text/latex": [
       "x^{3} + 12 x^{2} + 4 x + 1"
      ],
      "text/plain": [
       "x^3 + 12*x^2 + 4*x + 1"
      ]
     },
     "metadata": {},
     "output_type": "display_data"
    }
   ],
   "source": [
    "gp"
   ]
  },
  {
   "cell_type": "code",
   "execution_count": 7,
   "metadata": {},
   "outputs": [],
   "source": []
  },
  {
   "cell_type": "code",
   "execution_count": 8,
   "metadata": {},
   "outputs": [
    {
     "data": {
      "text/plain": [
       "9"
      ]
     },
     "metadata": {},
     "output_type": "display_data"
    }
   ],
   "source": [
    "k"
   ]
  },
  {
   "cell_type": "markdown",
   "metadata": {},
   "source": [
    "Get the generator and parity check matrices of the base Reed-Solomon code and print the parity check matrix."
   ]
  },
  {
   "cell_type": "code",
   "execution_count": 9,
   "metadata": {},
   "outputs": [
    {
     "data": {
      "text/plain": [
       "3×12 Matrix{fqPolyRepFieldElem}:\n",
       " 1  2  4   8   3  6   12  11  9  5   10  7\n",
       " 1  4  3   12  9  10  1   4   3  12  9   10\n",
       " 1  8  12  5   1  8   12  5   1  8   12  5"
      ]
     },
     "metadata": {},
     "output_type": "display_data"
    }
   ],
   "source": [
    "gm_fq_band_form = fill(α-α, k, q-1)\n",
    "for i in 1:k\n",
    "    shift = gp*x^(i-1)\n",
    "    gm_fq_band_form[i,:] = coeff.(shift.data, 0:(q-2))\n",
    "end\n",
    "gm_fqn = matrix_space(F, k,q-1)(gm_fq_band_form)\n",
    "H_fq = [(α^(i[1]))^(i[2]-1) for i in CartesianIndices((q-k-1, q-1))]\n",
    "Matrix(H_fq)"
   ]
  },
  {
   "cell_type": "markdown",
   "metadata": {},
   "source": [
    "Check that the generator and parity check matrices are indeed orthogonal to each other"
   ]
  },
  {
   "cell_type": "code",
   "execution_count": 10,
   "metadata": {},
   "outputs": [
    {
     "data": {
      "text/plain": [
       "\u001b[32m\u001b[1mTest Passed\u001b[22m\u001b[39m"
      ]
     },
     "metadata": {},
     "output_type": "display_data"
    }
   ],
   "source": [
    "@test all(iszero.(Matrix(gm_fqn)*transpose(H_fq)))"
   ]
  },
  {
   "cell_type": "markdown",
   "metadata": {},
   "source": [
    "Get Parity check Matrices of singly and doubly extended code and print them."
   ]
  },
  {
   "cell_type": "code",
   "execution_count": 11,
   "metadata": {},
   "outputs": [
    {
     "data": {
      "text/plain": [
       "3×13 Matrix{fqPolyRepFieldElem}:\n",
       " 0  1  2  4   8   3  6   12  11  9  5   10  7\n",
       " 0  1  4  3   12  9  10  1   4   3  12  9   10\n",
       " 1  1  8  12  5   1  8   12  5   1  8   12  5"
      ]
     },
     "metadata": {},
     "output_type": "display_data"
    }
   ],
   "source": [
    "ext1col = fill(F(0), q-k-1)\n",
    "ext1col[end] = F(1)\n",
    "ext2col = fill(F(0), q-k-1)\n",
    "ext2col[1] = F(1)\n",
    "H_fq_ext1 = hcat(ext1col, H_fq)"
   ]
  },
  {
   "cell_type": "code",
   "execution_count": 12,
   "metadata": {},
   "outputs": [
    {
     "data": {
      "text/plain": [
       "3×14 Matrix{fqPolyRepFieldElem}:\n",
       " 1  0  1  2  4   8   3  6   12  11  9  5   10  7\n",
       " 0  0  1  4  3   12  9  10  1   4   3  12  9   10\n",
       " 0  1  1  8  12  5   1  8   12  5   1  8   12  5"
      ]
     },
     "metadata": {},
     "output_type": "display_data"
    }
   ],
   "source": [
    "H_fq_ext2 = hcat(ext2col, H_fq_ext1)"
   ]
  },
  {
   "cell_type": "markdown",
   "metadata": {},
   "source": [
    "Find the row-reduced echelon form (linear algebra terminology) or systematic form (coding theory terminology) of the parity check matrices, then print them."
   ]
  },
  {
   "cell_type": "code",
   "execution_count": 13,
   "metadata": {},
   "outputs": [
    {
     "data": {
      "text/plain": [
       "3×13 Matrix{fqPolyRepFieldElem}:\n",
       " 1  0  0  11  11  6   3  7   2  10  8   5   2\n",
       " 0  1  0  5   4   10  2  10  5  2   11  11  4\n",
       " 0  0  1  6   2   3   2  1   3  10  10  6   8"
      ]
     },
     "metadata": {},
     "output_type": "display_data"
    }
   ],
   "source": [
    "H_fq_ext1_rref = rref(matrix_space(F, q-k-1, q)(H_fq_ext1))[2]\n",
    "H_fq_ext2_rref = rref(matrix_space(F, q-k-1, q+1)(H_fq_ext2))[2]\n",
    "Matrix(H_fq_ext1_rref)"
   ]
  },
  {
   "cell_type": "code",
   "execution_count": 14,
   "metadata": {},
   "outputs": [
    {
     "data": {
      "text/plain": [
       "3×14 Matrix{fqPolyRepFieldElem}:\n",
       " 1  0  0  11  1  9   7  9   11  7  6   6   1  10\n",
       " 0  1  0  4   9  6   5  11  11  1  11  9   3  8\n",
       " 0  0  1  4   3  12  9  10  1   4  3   12  9  10"
      ]
     },
     "metadata": {},
     "output_type": "display_data"
    }
   ],
   "source": [
    "Matrix(H_fq_ext2_rref)"
   ]
  },
  {
   "cell_type": "code",
   "execution_count": 15,
   "metadata": {},
   "outputs": [
    {
     "data": {
      "text/plain": [
       "3×10 Matrix{fqPolyRepFieldElem}:\n",
       " 11  11  6   3  7   2  10  8   5   2\n",
       " 5   4   10  2  10  5  2   11  11  4\n",
       " 6   2   3   2  1   3  10  10  6   8"
      ]
     },
     "metadata": {},
     "output_type": "display_data"
    }
   ],
   "source": [
    "Matrix(H_fq_ext1_rref)[:, (n-k+1):end]"
   ]
  },
  {
   "cell_type": "markdown",
   "metadata": {},
   "source": [
    "Get the corresponding generator matrices for each extended code, and then print them."
   ]
  },
  {
   "cell_type": "code",
   "execution_count": 16,
   "metadata": {},
   "outputs": [
    {
     "data": {
      "text/plain": [
       "11×14 Matrix{Int64}:\n",
       "  2   9   9  1  0  0  0  0  0  0  0  0  0  0\n",
       " 12   4  10  0  1  0  0  0  0  0  0  0  0  0\n",
       "  4   7   1  0  0  1  0  0  0  0  0  0  0  0\n",
       "  6   8   4  0  0  0  1  0  0  0  0  0  0  0\n",
       "  4   2   3  0  0  0  0  1  0  0  0  0  0  0\n",
       "  2   2  12  0  0  0  0  0  1  0  0  0  0  0\n",
       "  6  12   9  0  0  0  0  0  0  1  0  0  0  0\n",
       "  7   2  10  0  0  0  0  0  0  0  1  0  0  0\n",
       "  7   4   1  0  0  0  0  0  0  0  0  1  0  0\n",
       " 12  10   4  0  0  0  0  0  0  0  0  0  1  0\n",
       "  3   5   3  0  0  0  0  0  0  0  0  0  0  1"
      ]
     },
     "metadata": {},
     "output_type": "display_data"
    }
   ],
   "source": [
    "gm_ext1 = hcat(cvt_fq_nmod_2_int.(-Matrix(H_fq_ext1_rref)[:, (n-k+1):end])', I(k+1))\n",
    "gm_ext2 = hcat(cvt_fq_nmod_2_int.(-Matrix(H_fq_ext2_rref)[:, (n-k+1):end])', I(k+2))"
   ]
  },
  {
   "cell_type": "code",
   "execution_count": 17,
   "metadata": {},
   "outputs": [
    {
     "data": {
      "text/plain": [
       "10×13 Matrix{Int64}:\n",
       "  2   8   7  1  0  0  0  0  0  0  0  0  0\n",
       "  2   9  11  0  1  0  0  0  0  0  0  0  0\n",
       "  7   3  10  0  0  1  0  0  0  0  0  0  0\n",
       " 10  11  11  0  0  0  1  0  0  0  0  0  0\n",
       "  6   3  12  0  0  0  0  1  0  0  0  0  0\n",
       " 11   8  10  0  0  0  0  0  1  0  0  0  0\n",
       "  3  11   3  0  0  0  0  0  0  1  0  0  0\n",
       "  5   2   3  0  0  0  0  0  0  0  1  0  0\n",
       "  8   2   7  0  0  0  0  0  0  0  0  1  0\n",
       " 11   9   5  0  0  0  0  0  0  0  0  0  1"
      ]
     },
     "metadata": {},
     "output_type": "display_data"
    }
   ],
   "source": [
    "gm_ext1"
   ]
  },
  {
   "cell_type": "markdown",
   "metadata": {},
   "source": [
    "Check that the generator matrices of the extended Reed-Solomon codes are indeed orthogonal to their parity check matrices."
   ]
  },
  {
   "cell_type": "code",
   "execution_count": 18,
   "metadata": {},
   "outputs": [
    {
     "name": "stdout",
     "output_type": "stream",
     "text": [
      "\u001b[0m\u001b[1mTest Summary: | \u001b[22m\u001b[32m\u001b[1mPass  \u001b[22m\u001b[39m\u001b[36m\u001b[1mTotal  \u001b[22m\u001b[39m\u001b[0m\u001b[1mTime\u001b[22m\n",
      "test set      | \u001b[32m   2  \u001b[39m\u001b[36m    2  \u001b[39m\u001b[0m2.8s\n"
     ]
    }
   ],
   "source": [
    "H_fq_ext1_rref_int = cvt_fq_nmod_2_int.(H_fq_ext1_rref)\n",
    "H_fq_ext2_rref_int = cvt_fq_nmod_2_int.(H_fq_ext2_rref)\n",
    "@testset begin\n",
    "    @test all(iszero.(H_fq_ext1_rref_int * gm_ext1' .% q))\n",
    "    @test all(iszero.(H_fq_ext2_rref_int * gm_ext2' .% q))\n",
    "end;"
   ]
  },
  {
   "cell_type": "markdown",
   "metadata": {},
   "source": [
    "Define function to find codewords of the desired weight in the codes and test that the results agree with theoretical parameters."
   ]
  },
  {
   "cell_type": "code",
   "execution_count": 19,
   "metadata": {},
   "outputs": [
    {
     "data": {
      "text/plain": [
       "find_codewords_of_desired_weights (generic function with 1 method)"
      ]
     },
     "metadata": {},
     "output_type": "display_data"
    }
   ],
   "source": [
    "function find_codewords_of_desired_weights(G, H, q, k, n, n_extended, wmin, wmax)\n",
    "    cbs = [zeros(UInt8, 0, n+n_extended) for w in wmin:wmax]\n",
    "    cu_gmsp = CuArray{UInt16}(G[:, 1:(n-k)])\n",
    "    cu_H = CuArray{UInt16}(H)\n",
    "    for nnmessage_nzeros = maximum([1, wmin-(n-k)]):minimum([wmax, k+n_extended])\n",
    "        message_nonzeros = CuArray{UInt16}(undef, (q-1)^nnmessage_nzeros, nnmessage_nzeros)\n",
    "        for i in 1:nnmessage_nzeros\n",
    "            message_nonzeros[:, i] .= vcat(repeat(CUDA.fill.(1:(q-1), (q-1)^(i-1)), (q-1)^(nnmessage_nzeros-i))...)\n",
    "        end\n",
    "        message_array = CuArray{UInt16}(undef, (q-1)^nnmessage_nzeros, k+n_extended)\n",
    "        combs = combinations(1:(k+n_extended), nnmessage_nzeros)\n",
    "\n",
    "        for comb in combs\n",
    "            message_array .= 0x0000\n",
    "            message_array[:, comb] .= message_nonzeros\n",
    "            \n",
    "            pcs = message_array*cu_gmsp .% UInt16(q)\n",
    "            cws= hcat(pcs, message_array)\n",
    "            @assert all(cu_H * cws' .% UInt16(q) .== 0 )\n",
    "\n",
    "            ws = sum(cws .!= 0, dims=2)\n",
    "            ws = reshape(ws, length(ws))\n",
    "\n",
    "            for (i, wi) in enumerate(wmin:wmax)\n",
    "                cbs[i] = vcat(cbs[i], Matrix{UInt8}(cws[findall(w -> w == wi, ws), :]))\n",
    "            end     \n",
    "        end\n",
    "    end\n",
    "\n",
    "    @testset begin\n",
    "        for (i, w) in enumerate(wmin:wmax)\n",
    "            theoretical_ncws = get_num_codewords_of_weight_vn(q,q-1+n_extended,w,n-k+1)\n",
    "            if theoretical_ncws > 0\n",
    "                @test theoretical_ncws == size(cbs[i])[1]\n",
    "                println(\"w$w: \", size(cbs[i])[1])\n",
    "            else\n",
    "                @test length(cbs[i]) == 0\n",
    "            end\n",
    "        end\n",
    "    end\n",
    "\n",
    "    return cbs\n",
    "end"
   ]
  },
  {
   "cell_type": "markdown",
   "metadata": {},
   "source": [
    "Find codebooks for the singly extended code."
   ]
  },
  {
   "cell_type": "code",
   "execution_count": 20,
   "metadata": {},
   "outputs": [
    {
     "name": "stdout",
     "output_type": "stream",
     "text": [
      "w4: 8580\n",
      "\u001b[0m\u001b[1mTest Summary: | \u001b[22m\u001b[32m\u001b[1mPass  \u001b[22m\u001b[39m\u001b[36m\u001b[1mTotal  \u001b[22m\u001b[39m\u001b[0m\u001b[1mTime\u001b[22m\n",
      "test set      | \u001b[32m   3  \u001b[39m\u001b[36m    3  \u001b[39m\u001b[0m0.0s\n"
     ]
    },
    {
     "data": {
      "text/plain": [
       "3-element Vector{Matrix{UInt8}}:\n",
       " 0×13 Matrix{UInt8}\n",
       " 0×13 Matrix{UInt8}\n",
       " [0x02 0x08 … 0x00 0x00; 0x04 0x03 … 0x00 0x00; … ; 0x00 0x00 … 0x02 0x0b; 0x00 0x00 … 0x01 0x0c]"
      ]
     },
     "metadata": {},
     "output_type": "display_data"
    }
   ],
   "source": [
    "cbs_ext1 = find_codewords_of_desired_weights(gm_ext1, H_fq_ext1_rref_int, q, k, n, 1, wmin, wmax) "
   ]
  },
  {
   "cell_type": "markdown",
   "metadata": {},
   "source": [
    "Find codebook for the doubly extended code."
   ]
  },
  {
   "cell_type": "code",
   "execution_count": 21,
   "metadata": {},
   "outputs": [
    {
     "name": "stdout",
     "output_type": "stream",
     "text": [
      "w4: 12012\n",
      "\u001b[0m\u001b[1mTest Summary: | \u001b[22m\u001b[32m\u001b[1mPass  \u001b[22m\u001b[39m\u001b[36m\u001b[1mTotal  \u001b[22m\u001b[39m\u001b[0m\u001b[1mTime\u001b[22m\n",
      "test set      | \u001b[32m   3  \u001b[39m\u001b[36m    3  \u001b[39m\u001b[0m0.0s\n"
     ]
    },
    {
     "data": {
      "text/plain": [
       "3-element Vector{Matrix{UInt8}}:\n",
       " 0×14 Matrix{UInt8}\n",
       " 0×14 Matrix{UInt8}\n",
       " [0x02 0x09 … 0x00 0x00; 0x04 0x05 … 0x00 0x00; … ; 0x00 0x00 … 0x02 0x0b; 0x00 0x00 … 0x01 0x0c]"
      ]
     },
     "metadata": {},
     "output_type": "display_data"
    }
   ],
   "source": [
    "cbs_ext2 = find_codewords_of_desired_weights(gm_ext2, H_fq_ext2_rref_int, q, k, n, 2, wmin, wmax) "
   ]
  },
  {
   "cell_type": "markdown",
   "metadata": {},
   "source": [
    "Save Singly extended codebooks of each requested weight."
   ]
  },
  {
   "cell_type": "code",
   "execution_count": 22,
   "metadata": {},
   "outputs": [
    {
     "name": "stdout",
     "output_type": "stream",
     "text": [
      "saved RS_q13_n13_k10_w4cb.csv\n"
     ]
    }
   ],
   "source": [
    "for (i, w) in enumerate(wmin:wmax) #[3,4,5,6])\n",
    "    if length(cbs_ext1[i]) > 0\n",
    "        cbdf = DataFrame(cbs_ext1[i], \"block\".*string.(1:(n+1)))\n",
    "        insertcols!(cbdf, 1, (\"gene\" => 1:nrow(cbdf)))\n",
    "        CSV.write(\"output/RS_q\"*string(q)*\"_n\"*string(q)*\"_k\"*string(k+1)*\"_w\"*string(w)*\"cb.csv\", cbdf)\n",
    "        println(\"saved RS_q\"*string(q)*\"_n\"*string(q)*\"_k\"*string(k+1)*\"_w\"*string(w)*\"cb.csv\")\n",
    "    end\n",
    "end;"
   ]
  },
  {
   "cell_type": "markdown",
   "metadata": {},
   "source": [
    "Save doubly extended codebooks of each requested weight."
   ]
  },
  {
   "cell_type": "code",
   "execution_count": 23,
   "metadata": {},
   "outputs": [
    {
     "name": "stdout",
     "output_type": "stream",
     "text": [
      "saved RS_q13_n14_k11_w4cb.csv\n"
     ]
    }
   ],
   "source": [
    "for (i, w) in enumerate(wmin:wmax) #[3,4,5,6])\n",
    "    if length(cbs_ext2[i]) > 0\n",
    "        cbdf = DataFrame(cbs_ext2[i], \"block\".*string.(1:(n+2)))\n",
    "        insertcols!(cbdf, 1, (\"gene\" => 1:nrow(cbdf)))\n",
    "        CSV.write(\"output/RS_q\"*string(q)*\"_n\"*string(q+1)*\"_k\"*string(k+2)*\"_w\"*string(w)*\"cb.csv\", cbdf)\n",
    "        println(\"saved RS_q\"*string(q)*\"_n\"*string(q+1)*\"_k\"*string(k+2)*\"_w\"*string(w)*\"cb.csv\")\n",
    "    end\n",
    "end;"
   ]
  },
  {
   "cell_type": "markdown",
   "metadata": {},
   "source": [
    "Print the parity check matrix of the singly extended codebook"
   ]
  },
  {
   "cell_type": "code",
   "execution_count": 24,
   "metadata": {},
   "outputs": [
    {
     "data": {
      "text/plain": [
       "3×13 Matrix{Int64}:\n",
       " 1  0  0  11  11   6  3   7  2  10   8   5  2\n",
       " 0  1  0   5   4  10  2  10  5   2  11  11  4\n",
       " 0  0  1   6   2   3  2   1  3  10  10   6  8"
      ]
     },
     "metadata": {},
     "output_type": "display_data"
    }
   ],
   "source": [
    "H_fq_ext1_rref_int"
   ]
  },
  {
   "cell_type": "markdown",
   "metadata": {},
   "source": [
    "and the parity check matrix of the doubly extended codebook."
   ]
  },
  {
   "cell_type": "code",
   "execution_count": 25,
   "metadata": {},
   "outputs": [
    {
     "data": {
      "text/plain": [
       "3×14 Matrix{Int64}:\n",
       " 1  0  0  11  1   9  7   9  11  7   6   6  1  10\n",
       " 0  1  0   4  9   6  5  11  11  1  11   9  3   8\n",
       " 0  0  1   4  3  12  9  10   1  4   3  12  9  10"
      ]
     },
     "metadata": {},
     "output_type": "display_data"
    }
   ],
   "source": [
    "H_fq_ext2_rref_int"
   ]
  },
  {
   "cell_type": "markdown",
   "metadata": {},
   "source": [
    "Save the singly and doubly extended parity check matrices."
   ]
  },
  {
   "cell_type": "code",
   "execution_count": 26,
   "metadata": {},
   "outputs": [
    {
     "name": "stdout",
     "output_type": "stream",
     "text": [
      "RS_q13_n13_k10_H.csv\n"
     ]
    }
   ],
   "source": [
    "using DelimitedFiles\n",
    "println(\"RS_q\"*string(q)*\"_n\"*string(q)*\"_k\"*string(k+1)*\"_H.csv\")\n",
    "open(\"output/RS_q\"*string(q)*\"_n\"*string(q)*\"_k\"*string(k+1)*\"_H.csv\", \"w\") do io\n",
    "    writedlm(io, H_fq_ext1_rref_int,\",\")\n",
    "end"
   ]
  },
  {
   "cell_type": "code",
   "execution_count": 27,
   "metadata": {},
   "outputs": [
    {
     "name": "stdout",
     "output_type": "stream",
     "text": [
      "RS_q13_n14_k11_H.csv\n"
     ]
    }
   ],
   "source": [
    "using DelimitedFiles\n",
    "println(\"RS_q\"*string(q)*\"_n\"*string(q+1)*\"_k\"*string(k+2)*\"_H.csv\")\n",
    "open(\"output/RS_q\"*string(q)*\"_n\"*string(q+1)*\"_k\"*string(k+2)*\"_H.csv\", \"w\") do io\n",
    "    writedlm(io, H_fq_ext2_rref_int,\",\")\n",
    "end"
   ]
  }
 ],
 "metadata": {
  "kernelspec": {
   "display_name": "Julia 1.10.9",
   "language": "julia",
   "name": "julia-1.10"
  },
  "language_info": {
   "file_extension": ".jl",
   "mimetype": "application/julia",
   "name": "julia",
   "version": "1.10.9"
  }
 },
 "nbformat": 4,
 "nbformat_minor": 4
}
