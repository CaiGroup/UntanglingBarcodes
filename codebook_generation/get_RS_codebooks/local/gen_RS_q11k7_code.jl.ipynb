{
 "cells": [
  {
   "cell_type": "code",
   "execution_count": 1,
   "metadata": {},
   "outputs": [
    {
     "name": "stderr",
     "output_type": "stream",
     "text": [
      "\u001b[32m\u001b[1m  Activating\u001b[22m\u001b[39m project at `d:\\SeqFISH+Processing_project\\UntanglingBarcodes\\codebook_generation\\get_RS_codebooks\\local`\n",
      "\u001b[32m\u001b[1mPrecompiling\u001b[22m\u001b[39m packages...\n",
      "   1302.8 ms\u001b[32m  ✓ \u001b[39m\u001b[90mFLINT_jll\u001b[39m\n",
      "   1007.5 ms\u001b[32m  ✓ \u001b[39m\u001b[90mAntic_jll\u001b[39m\n",
      "   1114.6 ms\u001b[32m  ✓ \u001b[39m\u001b[90mArb_jll\u001b[39m\n",
      "   2582.5 ms\u001b[32m  ✓ \u001b[39m\u001b[90mNVTX\u001b[39m\n",
      "   2715.8 ms\u001b[32m  ✓ \u001b[39m\u001b[90mGPUArrays\u001b[39m\n",
      "   1162.6 ms\u001b[32m  ✓ \u001b[39m\u001b[90mCalcium_jll\u001b[39m\n",
      "  23165.2 ms\u001b[32m  ✓ \u001b[39mNemo\n",
      "  52204.0 ms\u001b[32m  ✓ \u001b[39mCUDA\n",
      "   5608.3 ms\u001b[32m  ✓ \u001b[39m\u001b[90mAtomix → AtomixCUDAExt\u001b[39m\n",
      "  9 dependencies successfully precompiled in 65 seconds. 86 already precompiled.\n"
     ]
    }
   ],
   "source": [
    "using Pkg\n",
    "# use saved environment with compatible dependencies. This notebook does not work with new\n",
    "# versions of Nemo\n",
    "Pkg.activate(\".\")\n",
    "Pkg.instantiate()"
   ]
  },
  {
   "cell_type": "code",
   "execution_count": 2,
   "metadata": {},
   "outputs": [],
   "source": [
    "using Nemo"
   ]
  },
  {
   "cell_type": "markdown",
   "metadata": {},
   "source": [
    "# Introduction\n",
    "\n",
    "This notebook shows how to generate codebooks for seqFISH experiments using [Reed-Solomon Codes](https://en.wikipedia.org/wiki/Reed%E2%80%93Solomon_error_correction). To run the google colab version of this notebook, click [here](https://colab.research.google.com/github/CaiGroup/UntanglingBarcodes/blob/master/codebook_generation/get_RS_codebooks/colab/gen_RS_q11k7_code.jl.ipynb). Reed-Solomon are part of a special class of error-correcting codes called [Maximum Distance Separable codes](https://en.wikipedia.org/wiki/Singleton_bound#MDS_codes) (MDS code) which achieve equality in the [Singleton bound](https://en.wikipedia.org/wiki/Singleton_bound). This means that MDS codes acheive the maximum possible extra difference between their codewords from every redundant parity check symbol, and gain the the most possible robustless to error for the increased cost of encoding information with more symbols.\n",
    "\n",
    "The number of codewords of a given weight in an MDS code weight is given by the the expression \n",
    "\n",
    "$(q-1)\\binom{w}{n}\\sum_{i=0}^{w-d}(-1)^i \\binom{i}{w-1}q^{w-d-i}$\n",
    "\n",
    "(Macwilliams and Sloan)\n"
   ]
  },
  {
   "cell_type": "markdown",
   "metadata": {},
   "source": [
    "## Set Reed-Solomon code parameters"
   ]
  },
  {
   "cell_type": "code",
   "execution_count": 3,
   "metadata": {},
   "outputs": [
    {
     "data": {
      "text/plain": [
       "7"
      ]
     },
     "metadata": {},
     "output_type": "display_data"
    }
   ],
   "source": [
    "q = 11\n",
    "k = 7"
   ]
  },
  {
   "cell_type": "code",
   "execution_count": 4,
   "metadata": {},
   "outputs": [
    {
     "data": {
      "text/plain": [
       "(Residue ring of univariate polynomial ring modulo x^10 + 10, Univariate polynomial ring in x over GF(11), x^3 + 8*x^2 + x + 2, x, 2)"
      ]
     },
     "metadata": {},
     "output_type": "display_data"
    }
   ],
   "source": [
    "function def_RS_code(_q :: Int64, deg :: Int64, nmk :: Int64)\n",
    "    global q = _q\n",
    "    global k = (q-1) - nmk\n",
    "    F, α = FiniteField(q, deg, \"α\")\n",
    "    R, x = PolynomialRing(F, \"x\")\n",
    "    RR =  ResidueRing(R, x^(q^deg-1)-1)\n",
    "    gp = 1\n",
    "    for i = 1:nmk\n",
    "        gp = gp*RR(x - α^i)\n",
    "    end\n",
    "    return RR, R, gp, x, α\n",
    "end\n",
    "\n",
    "\n",
    "function cvt_fq_nmod_2_int(x::fq_nmod)\n",
    "    if iszero(x)\n",
    "        return 0\n",
    "    end\n",
    "    for i = 1:(q-1)\n",
    "        if iszero(i+x)\n",
    "            return q-i\n",
    "        end\n",
    "    end \n",
    "end\n",
    "\n",
    "function get_cw_array(cw)\n",
    "    coeffs = Array{Union{Int8, Nothing}}(nothing, q-1)\n",
    "    for i = 0:(q-2) #9\n",
    "        coeffs[i+1] = cvt_fq_nmod_2_int(coeff(cw.data,i))\n",
    "    end\n",
    "    \n",
    "    return coeffs\n",
    "end\n",
    "\n",
    "\n",
    "RR, R, gp, x, α = def_RS_code(q,1,q-1-k)"
   ]
  },
  {
   "cell_type": "markdown",
   "metadata": {},
   "source": [
    "We can pring the generating polynomial"
   ]
  },
  {
   "cell_type": "code",
   "execution_count": 5,
   "metadata": {},
   "outputs": [
    {
     "data": {
      "text/html": [
       "x^3 + 8*x^2 + x + 2"
      ],
      "text/latex": [
       "x^{3} + 8 x^{2} + x + 2"
      ],
      "text/plain": [
       "x^3 + 8*x^2 + x + 2"
      ]
     },
     "metadata": {},
     "output_type": "display_data"
    }
   ],
   "source": [
    "gp"
   ]
  },
  {
   "cell_type": "code",
   "execution_count": 6,
   "metadata": {},
   "outputs": [
    {
     "data": {
      "text/plain": [
       "get_cw (generic function with 1 method)"
      ]
     },
     "metadata": {},
     "output_type": "display_data"
    }
   ],
   "source": [
    "# function convert codeword from specialized math objects to an Int Array\n",
    "get_cw(i) = get_cw_array(gp*R(collect(Tuple(i)))) "
   ]
  },
  {
   "cell_type": "code",
   "execution_count": 7,
   "metadata": {},
   "outputs": [
    {
     "name": "stdout",
     "output_type": "stream",
     "text": [
      "1237.163352 seconds (3.94 G allocations: 188.679 GiB, 29.27% gc time, 0.03% compilation time)\n"
     ]
    }
   ],
   "source": [
    "@time q11_k7 = map(get_cw, CartesianIndices(Tuple(fill(q,k))));"
   ]
  },
  {
   "cell_type": "code",
   "execution_count": 8,
   "metadata": {},
   "outputs": [
    {
     "data": {
      "text/plain": [
       "19487171"
      ]
     },
     "metadata": {},
     "output_type": "display_data"
    }
   ],
   "source": [
    "length(q11_k7)"
   ]
  },
  {
   "cell_type": "code",
   "execution_count": 9,
   "metadata": {},
   "outputs": [
    {
     "data": {
      "text/plain": [
       "19487171-element Vector{Vector{Union{Nothing, Int8}}}:\n",
       " [2, 3, 0, 1, 1, 1, 1, 10, 9, 1]\n",
       " [4, 4, 8, 2, 1, 1, 1, 10, 9, 1]\n",
       " [6, 5, 5, 3, 1, 1, 1, 10, 9, 1]\n",
       " [8, 6, 2, 4, 1, 1, 1, 10, 9, 1]\n",
       " [10, 7, 10, 5, 1, 1, 1, 10, 9, 1]\n",
       " [1, 8, 7, 6, 1, 1, 1, 10, 9, 1]\n",
       " [3, 9, 4, 7, 1, 1, 1, 10, 9, 1]\n",
       " [5, 10, 1, 8, 1, 1, 1, 10, 9, 1]\n",
       " [7, 0, 9, 9, 1, 1, 1, 10, 9, 1]\n",
       " [9, 1, 6, 10, 1, 1, 1, 10, 9, 1]\n",
       " ⋮\n",
       " [6, 3, 2, 3, 0, 0, 0, 0, 0, 0]\n",
       " [8, 4, 10, 4, 0, 0, 0, 0, 0, 0]\n",
       " [10, 5, 7, 5, 0, 0, 0, 0, 0, 0]\n",
       " [1, 6, 4, 6, 0, 0, 0, 0, 0, 0]\n",
       " [3, 7, 1, 7, 0, 0, 0, 0, 0, 0]\n",
       " [5, 8, 9, 8, 0, 0, 0, 0, 0, 0]\n",
       " [7, 9, 6, 9, 0, 0, 0, 0, 0, 0]\n",
       " [9, 10, 3, 10, 0, 0, 0, 0, 0, 0]\n",
       " [0, 0, 0, 0, 0, 0, 0, 0, 0, 0]"
      ]
     },
     "metadata": {},
     "output_type": "display_data"
    }
   ],
   "source": [
    "q11_k7 = reshape(q11_k7, length(q11_k7))"
   ]
  },
  {
   "cell_type": "markdown",
   "metadata": {},
   "source": [
    "Let's count how many codewords there are of each weight. Compare to the output of Make_RS_Code_Table_expanded.jl"
   ]
  },
  {
   "cell_type": "code",
   "execution_count": 10,
   "metadata": {},
   "outputs": [
    {
     "data": {
      "text/plain": [
       "11-element Vector{Int64}:\n",
       "       1\n",
       "       0\n",
       "       0\n",
       "       0\n",
       "    2100\n",
       "   17640\n",
       "  159600\n",
       "  900000\n",
       " 3381750\n",
       " 7512900\n",
       " 7513180"
      ]
     },
     "metadata": {},
     "output_type": "display_data"
    }
   ],
   "source": [
    "weights = [sum(map(cw -> sum(.~iszero.(cw)), q11_k7) .== w) for w in 0:10]\n",
    "weights"
   ]
  },
  {
   "cell_type": "code",
   "execution_count": 11,
   "metadata": {},
   "outputs": [],
   "source": [
    "cb = []\n",
    "weights_en = [1,0,0,0,0,0,0,0,0,0,0]\n",
    "\n",
    "w4_cws = []\n",
    "w5_cws = []\n",
    "w6_cws = []\n",
    "niters = 0\n",
    "li1 = -1\n",
    "for cw in q11_k7 #CartesianIndices(Tuple(fill(q,k)))\n",
    "    weight = sum(cw .!= 0)\n",
    "    if weight == 4\n",
    "        push!(w4_cws, cw)\n",
    "    end\n",
    "    if weight == 5\n",
    "        push!(w5_cws, cw)\n",
    "    end\n",
    "    if weight == 6\n",
    "        w6_cws = []\n",
    "    end\n",
    "    for w = 3:10\n",
    "        if weight == w\n",
    "            weights_en[w+1] += 1\n",
    "        end\n",
    "    end\n",
    "end"
   ]
  },
  {
   "cell_type": "code",
   "execution_count": 12,
   "metadata": {},
   "outputs": [],
   "source": [
    "using DelimitedFiles\n",
    "open(\"output/RS_q\"*string(q)*\"_k\"*string(k)*\"_w4cb.csv\", \"w\") do io\n",
    "    writedlm(io, hcat(w4_cws...)',\",\")\n",
    "end"
   ]
  },
  {
   "cell_type": "code",
   "execution_count": 13,
   "metadata": {},
   "outputs": [],
   "source": [
    "using DelimitedFiles\n",
    "open(\"output/RS_q\"*string(q)*\"_k\"*string(k)*\"_w5cb.csv\", \"w\") do io\n",
    "    writedlm(io, hcat(w5_cws...)',\",\")\n",
    "end"
   ]
  },
  {
   "cell_type": "code",
   "execution_count": 14,
   "metadata": {},
   "outputs": [],
   "source": [
    "using DelimitedFiles\n",
    "open(\"output/RS_q\"*string(q)*\"_k\"*string(k)*\"_w6cb.csv\", \"w\") do io\n",
    "    writedlm(io, hcat(w6_cws...)',\",\")\n",
    "end"
   ]
  },
  {
   "cell_type": "code",
   "execution_count": 15,
   "metadata": {},
   "outputs": [
    {
     "data": {
      "text/plain": [
       "2100-element Vector{Any}:\n",
       " Union{Nothing, Int8}[1, 0, 0, 4, 0, 0, 0, 0, 9, 1]\n",
       " Union{Nothing, Int8}[0, 0, 10, 0, 3, 0, 0, 0, 9, 1]\n",
       " Union{Nothing, Int8}[0, 4, 0, 0, 0, 0, 0, 2, 9, 1]\n",
       " Union{Nothing, Int8}[5, 0, 9, 0, 0, 0, 0, 0, 10, 1]\n",
       " Union{Nothing, Int8}[0, 3, 0, 3, 0, 0, 0, 0, 10, 1]\n",
       " Union{Nothing, Int8}[0, 0, 0, 0, 10, 9, 0, 0, 10, 1]\n",
       " Union{Nothing, Int8}[0, 1, 0, 0, 0, 0, 7, 4, 0, 1]\n",
       " Union{Nothing, Int8}[0, 0, 0, 7, 0, 2, 0, 4, 0, 1]\n",
       " Union{Nothing, Int8}[0, 9, 0, 0, 8, 0, 0, 5, 0, 1]\n",
       " Union{Nothing, Int8}[0, 0, 7, 0, 0, 3, 0, 5, 0, 1]\n",
       " ⋮\n",
       " Union{Nothing, Int8}[4, 2, 5, 2, 0, 0, 0, 0, 0, 0]\n",
       " Union{Nothing, Int8}[6, 3, 2, 3, 0, 0, 0, 0, 0, 0]\n",
       " Union{Nothing, Int8}[8, 4, 10, 4, 0, 0, 0, 0, 0, 0]\n",
       " Union{Nothing, Int8}[10, 5, 7, 5, 0, 0, 0, 0, 0, 0]\n",
       " Union{Nothing, Int8}[1, 6, 4, 6, 0, 0, 0, 0, 0, 0]\n",
       " Union{Nothing, Int8}[3, 7, 1, 7, 0, 0, 0, 0, 0, 0]\n",
       " Union{Nothing, Int8}[5, 8, 9, 8, 0, 0, 0, 0, 0, 0]\n",
       " Union{Nothing, Int8}[7, 9, 6, 9, 0, 0, 0, 0, 0, 0]\n",
       " Union{Nothing, Int8}[9, 10, 3, 10, 0, 0, 0, 0, 0, 0]"
      ]
     },
     "metadata": {},
     "output_type": "display_data"
    }
   ],
   "source": [
    "w4_cws"
   ]
  },
  {
   "cell_type": "code",
   "execution_count": 16,
   "metadata": {},
   "outputs": [
    {
     "data": {
      "text/plain": [
       "3×10 Matrix{Int64}:\n",
       " 2  4  8  5  10  9  7  3  6  1\n",
       " 4  5  9  3   1  4  5  9  3  1\n",
       " 8  9  6  4  10  3  2  5  7  1"
      ]
     },
     "metadata": {},
     "output_type": "display_data"
    }
   ],
   "source": [
    "H = [cvt_fq_nmod_2_int((α^(i[1]))^i[2]) for i in CartesianIndices((q-k-1, q-1))]\n",
    "H"
   ]
  },
  {
   "cell_type": "code",
   "execution_count": 17,
   "metadata": {},
   "outputs": [
    {
     "data": {
      "text/plain": [
       "true"
      ]
     },
     "metadata": {},
     "output_type": "display_data"
    }
   ],
   "source": [
    "all(map(cw -> all(iszero.(H*cw .% q)), w4_cws))"
   ]
  },
  {
   "cell_type": "code",
   "execution_count": 18,
   "metadata": {},
   "outputs": [
    {
     "data": {
      "text/plain": [
       "true"
      ]
     },
     "metadata": {},
     "output_type": "display_data"
    }
   ],
   "source": [
    "all(map(cw -> all(iszero.(H*cw .% q)), w5_cws))"
   ]
  },
  {
   "cell_type": "code",
   "execution_count": 19,
   "metadata": {},
   "outputs": [
    {
     "data": {
      "text/plain": [
       "true"
      ]
     },
     "metadata": {},
     "output_type": "display_data"
    }
   ],
   "source": [
    "all(map(cw -> all(iszero.(H*cw .% q)), w6_cws))"
   ]
  },
  {
   "cell_type": "code",
   "execution_count": 20,
   "metadata": {},
   "outputs": [],
   "source": [
    "open(\"output/RS_q\"*string(q)*\"_k\"*string(k)*\"_H.csv\", \"w\") do io\n",
    "    writedlm(io, H,\",\")\n",
    "end"
   ]
  }
 ],
 "metadata": {
  "kernelspec": {
   "display_name": "Julia 1.10.9",
   "language": "julia",
   "name": "julia-1.10"
  },
  "language_info": {
   "file_extension": ".jl",
   "mimetype": "application/julia",
   "name": "julia",
   "version": "1.10.9"
  }
 },
 "nbformat": 4,
 "nbformat_minor": 4
}
