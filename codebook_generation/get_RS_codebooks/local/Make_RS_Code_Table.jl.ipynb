{
 "cells": [
  {
   "cell_type": "markdown",
   "id": "1631a1f1-9cbb-4df8-b320-664fd055c585",
   "metadata": {},
   "source": [
    "# Reed-Solomon code characteristic table\n",
    "This is the local version of the notebook for generating a table of Reed-Solomon code parameters. To run the google colab version, click [here](https://colab.research.google.com/github/CaiGroup/UntanglingBarcodes/blob/master/codebook_generation/get_RS_codebooks/colab/Make_RS_Code_Table.jl.ipynb)."
   ]
  },
  {
   "cell_type": "code",
   "execution_count": 1,
   "id": "833249e6-f7f5-40e0-9fa3-91e0e00f6f2d",
   "metadata": {},
   "outputs": [
    {
     "name": "stderr",
     "output_type": "stream",
     "text": [
      "\u001b[32m\u001b[1m  Activating\u001b[22m\u001b[39m project at `D:\\SeqFISH+Processing_project\\UntanglingBarcodes\\codebook_generation\\get_RS_codebooks\\local`\n"
     ]
    }
   ],
   "source": [
    "using Pkg\n",
    "Pkg.activate(\".\")\n",
    "Pkg.instantiate()"
   ]
  },
  {
   "cell_type": "code",
   "execution_count": 2,
   "id": "10fb7ad5-2243-43c7-a550-0d6d07eb3fde",
   "metadata": {},
   "outputs": [],
   "source": [
    "using DataFrames\n",
    "using CSV"
   ]
  },
  {
   "cell_type": "code",
   "execution_count": 3,
   "id": "50f5dc42",
   "metadata": {},
   "outputs": [
    {
     "data": {
      "text/plain": [
       "get_num_codewords_of_weight_vn (generic function with 1 method)"
      ]
     },
     "execution_count": 3,
     "metadata": {},
     "output_type": "execute_result"
    }
   ],
   "source": [
    "function get_num_codewords_of_weight(q,w,d)\n",
    "    i = collect(0:(w-d))\n",
    "    (q-1)*binomial(q-1,w)*sum(((-1) .^ i) .* (binomial.(w-1, i)) .* (q .^ ((w - d) .- i)))\n",
    "end\n",
    "\n",
    "function get_num_codewords_of_weight_vn(q,n,w,d)\n",
    "    i = collect(0:(w-d))\n",
    "    (q-1)*binomial(n,w)*sum(((-1) .^ i) .* (binomial.(w-1, i)) .* (q .^ ((w - d) .- i)))\n",
    "end"
   ]
  },
  {
   "cell_type": "code",
   "execution_count": 4,
   "id": "3ed8e5ce",
   "metadata": {},
   "outputs": [],
   "source": [
    "qs = [5,7,8,9,11,13,16,17]\n",
    "params = []\n",
    "ncws = []\n",
    "qcs = []\n",
    "mds = []\n",
    "nimg = []\n",
    "ws = []\n",
    "ns = []\n",
    "for q in qs\n",
    "    for md in 2:5\n",
    "        for nmod in [-3, -2, -1, 0, 1, 2]\n",
    "            push!(ncws, get_num_codewords_of_weight_vn.(q,q-1+nmod,3:6,md))\n",
    "            nimgs = (q-1) * (q-1+nmod)\n",
    "            push!(qcs, q)\n",
    "            push!(ns, q-1+nmod)\n",
    "            push!(mds, md)\n",
    "            push!(nimg, nimgs)\n",
    "        end\n",
    "    end\n",
    "end\n",
    "            "
   ]
  },
  {
   "cell_type": "code",
   "execution_count": 5,
   "id": "270a8fd6",
   "metadata": {},
   "outputs": [],
   "source": [
    "code_table = DataFrame(hcat(ncws...)', \"w\" .* string.(3:6));\n"
   ]
  },
  {
   "cell_type": "code",
   "execution_count": 6,
   "id": "80ac14fc",
   "metadata": {},
   "outputs": [],
   "source": [
    "code_table = DataFrame(hcat(ncws...)', \"w\" .* string.(3:6))\n",
    "#code_table = \n",
    "insertcols!(code_table,1, (\"mhd\" => mds))\n",
    "\n",
    "insertcols!(code_table,1, (\"n\" => ns))\n",
    "#code_table = \n",
    "insertcols!(code_table,1, (\"q\" => qcs))\n",
    "insertcols!(code_table,1, (\"nImages\" => nimg))\n",
    "\n",
    "generating_notebook = []\n",
    "\n",
    "for r in eachrow(code_table)\n",
    "    if r.q in [8, 9]\n",
    "        push!(generating_notebook, \"gen_extended_codes_ext_fields_q9_n9-10_nmk4.ipynb\")\n",
    "    elseif r.n == r.q - 1\n",
    "        push!(generating_notebook, \"gen_RS_q11k7_code.jl.ipynb\")\n",
    "    elseif r.n >= r.q\n",
    "        push!(generating_notebook, \"gen_extended_codes_cuda.jl.ipynb\")\n",
    "    elseif  r.n < r.q - 1\n",
    "        push!(generating_notebook, \"gen_RS_q11k7_code.jl.ipynb -> get_shortened_cb.jl.ipynb\")\n",
    "    end\n",
    "end\n",
    "\n",
    "code_table[!, \"Generating Notebook\"] = generating_notebook;\n"
   ]
  },
  {
   "cell_type": "code",
   "execution_count": 7,
   "id": "601e2e94",
   "metadata": {},
   "outputs": [
    {
     "data": {
      "text/html": [
       "<div><div style = \"float: left;\"><span>192×9 DataFrame</span></div><div style = \"float: right;\"><span style = \"font-style: italic;\">167 rows omitted</span></div><div style = \"clear: both;\"></div></div><div class = \"data-frame\" style = \"overflow-x: scroll;\"><table class = \"data-frame\" style = \"margin-bottom: 6px;\"><thead><tr class = \"header\"><th class = \"rowNumber\" style = \"font-weight: bold; text-align: right;\">Row</th><th style = \"text-align: left;\">nImages</th><th style = \"text-align: left;\">q</th><th style = \"text-align: left;\">n</th><th style = \"text-align: left;\">mhd</th><th style = \"text-align: left;\">w3</th><th style = \"text-align: left;\">w4</th><th style = \"text-align: left;\">w5</th><th style = \"text-align: left;\">w6</th><th style = \"text-align: left;\">Generating Notebook</th></tr><tr class = \"subheader headerLastRow\"><th class = \"rowNumber\" style = \"font-weight: bold; text-align: right;\"></th><th title = \"Any\" style = \"text-align: left;\">Any</th><th title = \"Any\" style = \"text-align: left;\">Any</th><th title = \"Any\" style = \"text-align: left;\">Any</th><th title = \"Any\" style = \"text-align: left;\">Any</th><th title = \"Int64\" style = \"text-align: left;\">Int64</th><th title = \"Int64\" style = \"text-align: left;\">Int64</th><th title = \"Int64\" style = \"text-align: left;\">Int64</th><th title = \"Int64\" style = \"text-align: left;\">Int64</th><th title = \"Any\" style = \"text-align: left;\">Any</th></tr></thead><tbody><tr><td class = \"rowNumber\" style = \"font-weight: bold; text-align: right;\">1</td><td style = \"text-align: left;\">4</td><td style = \"text-align: left;\">5</td><td style = \"text-align: left;\">1</td><td style = \"text-align: left;\">2</td><td style = \"text-align: right;\">0</td><td style = \"text-align: right;\">0</td><td style = \"text-align: right;\">0</td><td style = \"text-align: right;\">0</td><td style = \"text-align: left;\">gen_RS_q11k7_code.jl.ipynb -&gt; get_shortened_cb.jl.ipynb</td></tr><tr><td class = \"rowNumber\" style = \"font-weight: bold; text-align: right;\">2</td><td style = \"text-align: left;\">8</td><td style = \"text-align: left;\">5</td><td style = \"text-align: left;\">2</td><td style = \"text-align: left;\">2</td><td style = \"text-align: right;\">0</td><td style = \"text-align: right;\">0</td><td style = \"text-align: right;\">0</td><td style = \"text-align: right;\">0</td><td style = \"text-align: left;\">gen_RS_q11k7_code.jl.ipynb -&gt; get_shortened_cb.jl.ipynb</td></tr><tr><td class = \"rowNumber\" style = \"font-weight: bold; text-align: right;\">3</td><td style = \"text-align: left;\">12</td><td style = \"text-align: left;\">5</td><td style = \"text-align: left;\">3</td><td style = \"text-align: left;\">2</td><td style = \"text-align: right;\">12</td><td style = \"text-align: right;\">0</td><td style = \"text-align: right;\">0</td><td style = \"text-align: right;\">0</td><td style = \"text-align: left;\">gen_RS_q11k7_code.jl.ipynb -&gt; get_shortened_cb.jl.ipynb</td></tr><tr><td class = \"rowNumber\" style = \"font-weight: bold; text-align: right;\">4</td><td style = \"text-align: left;\">16</td><td style = \"text-align: left;\">5</td><td style = \"text-align: left;\">4</td><td style = \"text-align: left;\">2</td><td style = \"text-align: right;\">48</td><td style = \"text-align: right;\">52</td><td style = \"text-align: right;\">0</td><td style = \"text-align: right;\">0</td><td style = \"text-align: left;\">gen_RS_q11k7_code.jl.ipynb</td></tr><tr><td class = \"rowNumber\" style = \"font-weight: bold; text-align: right;\">5</td><td style = \"text-align: left;\">20</td><td style = \"text-align: left;\">5</td><td style = \"text-align: left;\">5</td><td style = \"text-align: left;\">2</td><td style = \"text-align: right;\">120</td><td style = \"text-align: right;\">260</td><td style = \"text-align: right;\">204</td><td style = \"text-align: right;\">0</td><td style = \"text-align: left;\">gen_extended_codes_cuda.jl.ipynb</td></tr><tr><td class = \"rowNumber\" style = \"font-weight: bold; text-align: right;\">6</td><td style = \"text-align: left;\">24</td><td style = \"text-align: left;\">5</td><td style = \"text-align: left;\">6</td><td style = \"text-align: left;\">2</td><td style = \"text-align: right;\">240</td><td style = \"text-align: right;\">780</td><td style = \"text-align: right;\">1224</td><td style = \"text-align: right;\">820</td><td style = \"text-align: left;\">gen_extended_codes_cuda.jl.ipynb</td></tr><tr><td class = \"rowNumber\" style = \"font-weight: bold; text-align: right;\">7</td><td style = \"text-align: left;\">4</td><td style = \"text-align: left;\">5</td><td style = \"text-align: left;\">1</td><td style = \"text-align: left;\">3</td><td style = \"text-align: right;\">0</td><td style = \"text-align: right;\">0</td><td style = \"text-align: right;\">0</td><td style = \"text-align: right;\">0</td><td style = \"text-align: left;\">gen_RS_q11k7_code.jl.ipynb -&gt; get_shortened_cb.jl.ipynb</td></tr><tr><td class = \"rowNumber\" style = \"font-weight: bold; text-align: right;\">8</td><td style = \"text-align: left;\">8</td><td style = \"text-align: left;\">5</td><td style = \"text-align: left;\">2</td><td style = \"text-align: left;\">3</td><td style = \"text-align: right;\">0</td><td style = \"text-align: right;\">0</td><td style = \"text-align: right;\">0</td><td style = \"text-align: right;\">0</td><td style = \"text-align: left;\">gen_RS_q11k7_code.jl.ipynb -&gt; get_shortened_cb.jl.ipynb</td></tr><tr><td class = \"rowNumber\" style = \"font-weight: bold; text-align: right;\">9</td><td style = \"text-align: left;\">12</td><td style = \"text-align: left;\">5</td><td style = \"text-align: left;\">3</td><td style = \"text-align: left;\">3</td><td style = \"text-align: right;\">4</td><td style = \"text-align: right;\">0</td><td style = \"text-align: right;\">0</td><td style = \"text-align: right;\">0</td><td style = \"text-align: left;\">gen_RS_q11k7_code.jl.ipynb -&gt; get_shortened_cb.jl.ipynb</td></tr><tr><td class = \"rowNumber\" style = \"font-weight: bold; text-align: right;\">10</td><td style = \"text-align: left;\">16</td><td style = \"text-align: left;\">5</td><td style = \"text-align: left;\">4</td><td style = \"text-align: left;\">3</td><td style = \"text-align: right;\">16</td><td style = \"text-align: right;\">8</td><td style = \"text-align: right;\">0</td><td style = \"text-align: right;\">0</td><td style = \"text-align: left;\">gen_RS_q11k7_code.jl.ipynb</td></tr><tr><td class = \"rowNumber\" style = \"font-weight: bold; text-align: right;\">11</td><td style = \"text-align: left;\">20</td><td style = \"text-align: left;\">5</td><td style = \"text-align: left;\">5</td><td style = \"text-align: left;\">3</td><td style = \"text-align: right;\">40</td><td style = \"text-align: right;\">40</td><td style = \"text-align: right;\">44</td><td style = \"text-align: right;\">0</td><td style = \"text-align: left;\">gen_extended_codes_cuda.jl.ipynb</td></tr><tr><td class = \"rowNumber\" style = \"font-weight: bold; text-align: right;\">12</td><td style = \"text-align: left;\">24</td><td style = \"text-align: left;\">5</td><td style = \"text-align: left;\">6</td><td style = \"text-align: left;\">3</td><td style = \"text-align: right;\">80</td><td style = \"text-align: right;\">120</td><td style = \"text-align: right;\">264</td><td style = \"text-align: right;\">160</td><td style = \"text-align: left;\">gen_extended_codes_cuda.jl.ipynb</td></tr><tr><td class = \"rowNumber\" style = \"font-weight: bold; text-align: right;\">13</td><td style = \"text-align: left;\">4</td><td style = \"text-align: left;\">5</td><td style = \"text-align: left;\">1</td><td style = \"text-align: left;\">4</td><td style = \"text-align: right;\">0</td><td style = \"text-align: right;\">0</td><td style = \"text-align: right;\">0</td><td style = \"text-align: right;\">0</td><td style = \"text-align: left;\">gen_RS_q11k7_code.jl.ipynb -&gt; get_shortened_cb.jl.ipynb</td></tr><tr><td style = \"text-align: right;\">&vellip;</td><td style = \"text-align: right;\">&vellip;</td><td style = \"text-align: right;\">&vellip;</td><td style = \"text-align: right;\">&vellip;</td><td style = \"text-align: right;\">&vellip;</td><td style = \"text-align: right;\">&vellip;</td><td style = \"text-align: right;\">&vellip;</td><td style = \"text-align: right;\">&vellip;</td><td style = \"text-align: right;\">&vellip;</td><td style = \"text-align: right;\">&vellip;</td></tr><tr><td class = \"rowNumber\" style = \"font-weight: bold; text-align: right;\">181</td><td style = \"text-align: left;\">208</td><td style = \"text-align: left;\">17</td><td style = \"text-align: left;\">13</td><td style = \"text-align: left;\">4</td><td style = \"text-align: right;\">0</td><td style = \"text-align: right;\">11440</td><td style = \"text-align: right;\">267696</td><td style = \"text-align: right;\">5875584</td><td style = \"text-align: left;\">gen_RS_q11k7_code.jl.ipynb -&gt; get_shortened_cb.jl.ipynb</td></tr><tr><td class = \"rowNumber\" style = \"font-weight: bold; text-align: right;\">182</td><td style = \"text-align: left;\">224</td><td style = \"text-align: left;\">17</td><td style = \"text-align: left;\">14</td><td style = \"text-align: left;\">4</td><td style = \"text-align: right;\">0</td><td style = \"text-align: right;\">16016</td><td style = \"text-align: right;\">416416</td><td style = \"text-align: right;\">10282272</td><td style = \"text-align: left;\">gen_RS_q11k7_code.jl.ipynb -&gt; get_shortened_cb.jl.ipynb</td></tr><tr><td class = \"rowNumber\" style = \"font-weight: bold; text-align: right;\">183</td><td style = \"text-align: left;\">240</td><td style = \"text-align: left;\">17</td><td style = \"text-align: left;\">15</td><td style = \"text-align: left;\">4</td><td style = \"text-align: right;\">0</td><td style = \"text-align: right;\">21840</td><td style = \"text-align: right;\">624624</td><td style = \"text-align: right;\">17137120</td><td style = \"text-align: left;\">gen_RS_q11k7_code.jl.ipynb -&gt; get_shortened_cb.jl.ipynb</td></tr><tr><td class = \"rowNumber\" style = \"font-weight: bold; text-align: right;\">184</td><td style = \"text-align: left;\">256</td><td style = \"text-align: left;\">17</td><td style = \"text-align: left;\">16</td><td style = \"text-align: left;\">4</td><td style = \"text-align: right;\">0</td><td style = \"text-align: right;\">29120</td><td style = \"text-align: right;\">908544</td><td style = \"text-align: right;\">27419392</td><td style = \"text-align: left;\">gen_RS_q11k7_code.jl.ipynb</td></tr><tr><td class = \"rowNumber\" style = \"font-weight: bold; text-align: right;\">185</td><td style = \"text-align: left;\">272</td><td style = \"text-align: left;\">17</td><td style = \"text-align: left;\">17</td><td style = \"text-align: left;\">4</td><td style = \"text-align: right;\">0</td><td style = \"text-align: right;\">38080</td><td style = \"text-align: right;\">1287104</td><td style = \"text-align: right;\">42375424</td><td style = \"text-align: left;\">gen_extended_codes_cuda.jl.ipynb</td></tr><tr><td class = \"rowNumber\" style = \"font-weight: bold; text-align: right;\">186</td><td style = \"text-align: left;\">288</td><td style = \"text-align: left;\">17</td><td style = \"text-align: left;\">18</td><td style = \"text-align: left;\">4</td><td style = \"text-align: right;\">0</td><td style = \"text-align: right;\">48960</td><td style = \"text-align: right;\">1782144</td><td style = \"text-align: right;\">63563136</td><td style = \"text-align: left;\">gen_extended_codes_cuda.jl.ipynb</td></tr><tr><td class = \"rowNumber\" style = \"font-weight: bold; text-align: right;\">187</td><td style = \"text-align: left;\">208</td><td style = \"text-align: left;\">17</td><td style = \"text-align: left;\">13</td><td style = \"text-align: left;\">5</td><td style = \"text-align: right;\">0</td><td style = \"text-align: right;\">0</td><td style = \"text-align: right;\">20592</td><td style = \"text-align: right;\">329472</td><td style = \"text-align: left;\">gen_RS_q11k7_code.jl.ipynb -&gt; get_shortened_cb.jl.ipynb</td></tr><tr><td class = \"rowNumber\" style = \"font-weight: bold; text-align: right;\">188</td><td style = \"text-align: left;\">224</td><td style = \"text-align: left;\">17</td><td style = \"text-align: left;\">14</td><td style = \"text-align: left;\">5</td><td style = \"text-align: right;\">0</td><td style = \"text-align: right;\">0</td><td style = \"text-align: right;\">32032</td><td style = \"text-align: right;\">576576</td><td style = \"text-align: left;\">gen_RS_q11k7_code.jl.ipynb -&gt; get_shortened_cb.jl.ipynb</td></tr><tr><td class = \"rowNumber\" style = \"font-weight: bold; text-align: right;\">189</td><td style = \"text-align: left;\">240</td><td style = \"text-align: left;\">17</td><td style = \"text-align: left;\">15</td><td style = \"text-align: left;\">5</td><td style = \"text-align: right;\">0</td><td style = \"text-align: right;\">0</td><td style = \"text-align: right;\">48048</td><td style = \"text-align: right;\">960960</td><td style = \"text-align: left;\">gen_RS_q11k7_code.jl.ipynb -&gt; get_shortened_cb.jl.ipynb</td></tr><tr><td class = \"rowNumber\" style = \"font-weight: bold; text-align: right;\">190</td><td style = \"text-align: left;\">256</td><td style = \"text-align: left;\">17</td><td style = \"text-align: left;\">16</td><td style = \"text-align: left;\">5</td><td style = \"text-align: right;\">0</td><td style = \"text-align: right;\">0</td><td style = \"text-align: right;\">69888</td><td style = \"text-align: right;\">1537536</td><td style = \"text-align: left;\">gen_RS_q11k7_code.jl.ipynb</td></tr><tr><td class = \"rowNumber\" style = \"font-weight: bold; text-align: right;\">191</td><td style = \"text-align: left;\">272</td><td style = \"text-align: left;\">17</td><td style = \"text-align: left;\">17</td><td style = \"text-align: left;\">5</td><td style = \"text-align: right;\">0</td><td style = \"text-align: right;\">0</td><td style = \"text-align: right;\">99008</td><td style = \"text-align: right;\">2376192</td><td style = \"text-align: left;\">gen_extended_codes_cuda.jl.ipynb</td></tr><tr><td class = \"rowNumber\" style = \"font-weight: bold; text-align: right;\">192</td><td style = \"text-align: left;\">288</td><td style = \"text-align: left;\">17</td><td style = \"text-align: left;\">18</td><td style = \"text-align: left;\">5</td><td style = \"text-align: right;\">0</td><td style = \"text-align: right;\">0</td><td style = \"text-align: right;\">137088</td><td style = \"text-align: right;\">3564288</td><td style = \"text-align: left;\">gen_extended_codes_cuda.jl.ipynb</td></tr></tbody></table></div>"
      ],
      "text/latex": [
       "\\begin{tabular}{r|ccccccccc}\n",
       "\t& nImages & q & n & mhd & w3 & w4 & w5 & w6 & Generating Notebook\\\\\n",
       "\t\\hline\n",
       "\t& Any & Any & Any & Any & Int64 & Int64 & Int64 & Int64 & Any\\\\\n",
       "\t\\hline\n",
       "\t1 & 4 & 5 & 1 & 2 & 0 & 0 & 0 & 0 & gen\\_RS\\_q11k7\\_code.jl.ipynb -> get\\_shortened\\_cb.jl.ipynb \\\\\n",
       "\t2 & 8 & 5 & 2 & 2 & 0 & 0 & 0 & 0 & gen\\_RS\\_q11k7\\_code.jl.ipynb -> get\\_shortened\\_cb.jl.ipynb \\\\\n",
       "\t3 & 12 & 5 & 3 & 2 & 12 & 0 & 0 & 0 & gen\\_RS\\_q11k7\\_code.jl.ipynb -> get\\_shortened\\_cb.jl.ipynb \\\\\n",
       "\t4 & 16 & 5 & 4 & 2 & 48 & 52 & 0 & 0 & gen\\_RS\\_q11k7\\_code.jl.ipynb \\\\\n",
       "\t5 & 20 & 5 & 5 & 2 & 120 & 260 & 204 & 0 & gen\\_extended\\_codes\\_cuda.jl.ipynb \\\\\n",
       "\t6 & 24 & 5 & 6 & 2 & 240 & 780 & 1224 & 820 & gen\\_extended\\_codes\\_cuda.jl.ipynb \\\\\n",
       "\t7 & 4 & 5 & 1 & 3 & 0 & 0 & 0 & 0 & gen\\_RS\\_q11k7\\_code.jl.ipynb -> get\\_shortened\\_cb.jl.ipynb \\\\\n",
       "\t8 & 8 & 5 & 2 & 3 & 0 & 0 & 0 & 0 & gen\\_RS\\_q11k7\\_code.jl.ipynb -> get\\_shortened\\_cb.jl.ipynb \\\\\n",
       "\t9 & 12 & 5 & 3 & 3 & 4 & 0 & 0 & 0 & gen\\_RS\\_q11k7\\_code.jl.ipynb -> get\\_shortened\\_cb.jl.ipynb \\\\\n",
       "\t10 & 16 & 5 & 4 & 3 & 16 & 8 & 0 & 0 & gen\\_RS\\_q11k7\\_code.jl.ipynb \\\\\n",
       "\t11 & 20 & 5 & 5 & 3 & 40 & 40 & 44 & 0 & gen\\_extended\\_codes\\_cuda.jl.ipynb \\\\\n",
       "\t12 & 24 & 5 & 6 & 3 & 80 & 120 & 264 & 160 & gen\\_extended\\_codes\\_cuda.jl.ipynb \\\\\n",
       "\t13 & 4 & 5 & 1 & 4 & 0 & 0 & 0 & 0 & gen\\_RS\\_q11k7\\_code.jl.ipynb -> get\\_shortened\\_cb.jl.ipynb \\\\\n",
       "\t14 & 8 & 5 & 2 & 4 & 0 & 0 & 0 & 0 & gen\\_RS\\_q11k7\\_code.jl.ipynb -> get\\_shortened\\_cb.jl.ipynb \\\\\n",
       "\t15 & 12 & 5 & 3 & 4 & 0 & 0 & 0 & 0 & gen\\_RS\\_q11k7\\_code.jl.ipynb -> get\\_shortened\\_cb.jl.ipynb \\\\\n",
       "\t16 & 16 & 5 & 4 & 4 & 0 & 4 & 0 & 0 & gen\\_RS\\_q11k7\\_code.jl.ipynb \\\\\n",
       "\t17 & 20 & 5 & 5 & 4 & 0 & 20 & 4 & 0 & gen\\_extended\\_codes\\_cuda.jl.ipynb \\\\\n",
       "\t18 & 24 & 5 & 6 & 4 & 0 & 60 & 24 & 40 & gen\\_extended\\_codes\\_cuda.jl.ipynb \\\\\n",
       "\t19 & 4 & 5 & 1 & 5 & 0 & 0 & 0 & 0 & gen\\_RS\\_q11k7\\_code.jl.ipynb -> get\\_shortened\\_cb.jl.ipynb \\\\\n",
       "\t20 & 8 & 5 & 2 & 5 & 0 & 0 & 0 & 0 & gen\\_RS\\_q11k7\\_code.jl.ipynb -> get\\_shortened\\_cb.jl.ipynb \\\\\n",
       "\t21 & 12 & 5 & 3 & 5 & 0 & 0 & 0 & 0 & gen\\_RS\\_q11k7\\_code.jl.ipynb -> get\\_shortened\\_cb.jl.ipynb \\\\\n",
       "\t22 & 16 & 5 & 4 & 5 & 0 & 0 & 0 & 0 & gen\\_RS\\_q11k7\\_code.jl.ipynb \\\\\n",
       "\t23 & 20 & 5 & 5 & 5 & 0 & 0 & 4 & 0 & gen\\_extended\\_codes\\_cuda.jl.ipynb \\\\\n",
       "\t24 & 24 & 5 & 6 & 5 & 0 & 0 & 24 & 0 & gen\\_extended\\_codes\\_cuda.jl.ipynb \\\\\n",
       "\t25 & 18 & 7 & 3 & 2 & 30 & 0 & 0 & 0 & gen\\_RS\\_q11k7\\_code.jl.ipynb -> get\\_shortened\\_cb.jl.ipynb \\\\\n",
       "\t26 & 24 & 7 & 4 & 2 & 120 & 186 & 0 & 0 & gen\\_RS\\_q11k7\\_code.jl.ipynb -> get\\_shortened\\_cb.jl.ipynb \\\\\n",
       "\t27 & 30 & 7 & 5 & 2 & 300 & 930 & 1110 & 0 & gen\\_RS\\_q11k7\\_code.jl.ipynb -> get\\_shortened\\_cb.jl.ipynb \\\\\n",
       "\t28 & 36 & 7 & 6 & 2 & 600 & 2790 & 6660 & 6666 & gen\\_RS\\_q11k7\\_code.jl.ipynb \\\\\n",
       "\t29 & 42 & 7 & 7 & 2 & 1050 & 6510 & 23310 & 46662 & gen\\_extended\\_codes\\_cuda.jl.ipynb \\\\\n",
       "\t30 & 48 & 7 & 8 & 2 & 1680 & 13020 & 62160 & 186648 & gen\\_extended\\_codes\\_cuda.jl.ipynb \\\\\n",
       "\t$\\dots$ & $\\dots$ & $\\dots$ & $\\dots$ & $\\dots$ & $\\dots$ & $\\dots$ & $\\dots$ & $\\dots$ & $\\dots$ \\\\\n",
       "\\end{tabular}\n"
      ],
      "text/plain": [
       "\u001b[1m192×9 DataFrame\u001b[0m\n",
       "\u001b[1m Row \u001b[0m│\u001b[1m nImages \u001b[0m\u001b[1m q   \u001b[0m\u001b[1m n   \u001b[0m\u001b[1m mhd \u001b[0m\u001b[1m w3    \u001b[0m\u001b[1m w4     \u001b[0m\u001b[1m w5       \u001b[0m\u001b[1m w6         \u001b[0m\u001b[1m Generating\u001b[0m ⋯\n",
       "     │\u001b[90m Any     \u001b[0m\u001b[90m Any \u001b[0m\u001b[90m Any \u001b[0m\u001b[90m Any \u001b[0m\u001b[90m Int64 \u001b[0m\u001b[90m Int64  \u001b[0m\u001b[90m Int64    \u001b[0m\u001b[90m Int64      \u001b[0m\u001b[90m Any       \u001b[0m ⋯\n",
       "─────┼──────────────────────────────────────────────────────────────────────────\n",
       "   1 │ 4        5    1    2        0       0         0           0  gen_RS_q11 ⋯\n",
       "   2 │ 8        5    2    2        0       0         0           0  gen_RS_q11\n",
       "   3 │ 12       5    3    2       12       0         0           0  gen_RS_q11\n",
       "   4 │ 16       5    4    2       48      52         0           0  gen_RS_q11\n",
       "   5 │ 20       5    5    2      120     260       204           0  gen_extend ⋯\n",
       "   6 │ 24       5    6    2      240     780      1224         820  gen_extend\n",
       "   7 │ 4        5    1    3        0       0         0           0  gen_RS_q11\n",
       "   8 │ 8        5    2    3        0       0         0           0  gen_RS_q11\n",
       "   9 │ 12       5    3    3        4       0         0           0  gen_RS_q11 ⋯\n",
       "  10 │ 16       5    4    3       16       8         0           0  gen_RS_q11\n",
       "  11 │ 20       5    5    3       40      40        44           0  gen_extend\n",
       "  ⋮  │    ⋮      ⋮    ⋮    ⋮     ⋮      ⋮        ⋮          ⋮                  ⋱\n",
       " 183 │ 240      17   15   4        0   21840    624624    17137120  gen_RS_q11\n",
       " 184 │ 256      17   16   4        0   29120    908544    27419392  gen_RS_q11 ⋯\n",
       " 185 │ 272      17   17   4        0   38080   1287104    42375424  gen_extend\n",
       " 186 │ 288      17   18   4        0   48960   1782144    63563136  gen_extend\n",
       " 187 │ 208      17   13   5        0       0     20592      329472  gen_RS_q11\n",
       " 188 │ 224      17   14   5        0       0     32032      576576  gen_RS_q11 ⋯\n",
       " 189 │ 240      17   15   5        0       0     48048      960960  gen_RS_q11\n",
       " 190 │ 256      17   16   5        0       0     69888     1537536  gen_RS_q11\n",
       " 191 │ 272      17   17   5        0       0     99008     2376192  gen_extend\n",
       " 192 │ 288      17   18   5        0       0    137088     3564288  gen_extend ⋯\n",
       "\u001b[36m                                                   1 column and 171 rows omitted\u001b[0m"
      ]
     },
     "execution_count": 7,
     "metadata": {},
     "output_type": "execute_result"
    }
   ],
   "source": [
    "code_table"
   ]
  },
  {
   "cell_type": "code",
   "execution_count": 8,
   "id": "8ccbba73",
   "metadata": {},
   "outputs": [
    {
     "data": {
      "text/plain": [
       "\"output/RS_code_spec_table.csv\""
      ]
     },
     "execution_count": 8,
     "metadata": {},
     "output_type": "execute_result"
    }
   ],
   "source": [
    "CSV.write(\"output/RS_code_spec_table.csv\", code_table)"
   ]
  }
 ],
 "metadata": {
  "kernelspec": {
   "display_name": "Julia 1.10.9",
   "language": "julia",
   "name": "julia-1.10"
  },
  "language_info": {
   "file_extension": ".jl",
   "mimetype": "application/julia",
   "name": "julia",
   "version": "1.10.9"
  }
 },
 "nbformat": 4,
 "nbformat_minor": 5
}
