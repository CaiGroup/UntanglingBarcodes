{
 "cells": [
  {
   "cell_type": "markdown",
   "id": "e7522c81-ecdf-49a2-9c9b-a8f1bcc20b84",
   "metadata": {},
   "source": [
    "# Reed-Solomon codebook parameter table generating Notebook - Colab version\n",
    "\n",
    "This notebook runs on [Google Colab](https://colab.research.google.com/github/CaiGroup/UntanglingBarcodes/blob/master/codebook_generation/get_RS_codebooks/colab/Make_RS_Code_Table.jl.ipynb) to generate tables of characteristics ro Reed-Solomon codebooks that may be used in seqFISH experiments\n",
    "\n",
    "To run this notebook, you will need to change to the Julia runtime environment. To do that select from the drop down menu:\n",
    "\n",
    "Runtime > Change runtime type\n",
    "\n",
    "In the \"Change runtime type\"  prompt window, select \"Julia\" (not julia x.xx.xx) from the Runtime type drop-down menu. Click Save."
   ]
  },
  {
   "cell_type": "code",
   "execution_count": null,
   "id": "9b787fd8-16e0-45a2-ad0f-4dd22bf2514d",
   "metadata": {},
   "outputs": [],
   "source": [
    "using Pkg\n",
    "Pkg.add(\"DataFrames\")\n",
    "Pkg.add(\"CSV\")"
   ]
  },
  {
   "cell_type": "code",
   "execution_count": null,
   "id": "f906842a-bd9d-4820-99c1-9ea181927e9d",
   "metadata": {},
   "outputs": [],
   "source": [
    "sts = Pkg.status()"
   ]
  },
  {
   "cell_type": "code",
   "execution_count": null,
   "id": "0e1379ef-857a-41ec-82d0-1136efd8d93d",
   "metadata": {},
   "outputs": [],
   "source": [
    "typeof(sts)"
   ]
  },
  {
   "cell_type": "code",
   "execution_count": null,
   "id": "10fb7ad5-2243-43c7-a550-0d6d07eb3fde",
   "metadata": {},
   "outputs": [],
   "source": [
    "using DataFrames\n",
    "using CSV"
   ]
  },
  {
   "cell_type": "code",
   "execution_count": null,
   "id": "50f5dc42",
   "metadata": {},
   "outputs": [],
   "source": [
    "function get_num_codewords_of_weight(q,w,d)\n",
    "    i = collect(0:(w-d))\n",
    "    (q-1)*binomial(q-1,w)*sum(((-1) .^ i) .* (binomial.(w-1, i)) .* (q .^ ((w - d) .- i)))\n",
    "end\n",
    "\n",
    "function get_num_codewords_of_weight_vn(q,n,w,d)\n",
    "    i = collect(0:(w-d))\n",
    "    (q-1)*binomial(n,w)*sum(((-1) .^ i) .* (binomial.(w-1, i)) .* (q .^ ((w - d) .- i)))\n",
    "end"
   ]
  },
  {
   "cell_type": "code",
   "execution_count": null,
   "id": "321cd47a",
   "metadata": {},
   "outputs": [],
   "source": [
    "codes = [\n",
    "    (5,2,2),\n",
    "    (5,3,2),\n",
    "    (5,4,2),\n",
    "    (5,5,2),\n",
    "    (5,3,3),\n",
    "]"
   ]
  },
  {
   "cell_type": "code",
   "execution_count": null,
   "id": "3ed8e5ce",
   "metadata": {},
   "outputs": [],
   "source": [
    "qs = [5,7,8,9,11,13,16,17]\n",
    "params = []\n",
    "ncws = []\n",
    "qcs = []\n",
    "mds = []\n",
    "nImages = []\n",
    "ws = []\n",
    "ns = []\n",
    "for q in qs\n",
    "    for md in 2:5\n",
    "        for nmod in [-3, -2, -1, 0, 1, 2]\n",
    "            push!(ncws, get_num_codewords_of_weight_vn.(q,q-1+nmod,3:6,md))\n",
    "            nImages_code = (q-1) * (q-1+nmod)\n",
    "            push!(qcs, q)\n",
    "            push!(ns, q-1+nmod)\n",
    "            push!(mds, md)\n",
    "            push!(nImages, nImages_code)\n",
    "        end\n",
    "    end\n",
    "end\n",
    "            "
   ]
  },
  {
   "cell_type": "code",
   "execution_count": null,
   "id": "03f74c77-0c6c-405e-b476-b1f7b07547de",
   "metadata": {},
   "outputs": [],
   "source": [
    "ncws"
   ]
  },
  {
   "cell_type": "code",
   "execution_count": null,
   "id": "16f5c17e",
   "metadata": {
    "scrolled": true
   },
   "outputs": [],
   "source": [
    "hcat(ncws...)'"
   ]
  },
  {
   "cell_type": "code",
   "execution_count": null,
   "id": "270a8fd6",
   "metadata": {},
   "outputs": [],
   "source": [
    "code_table = DataFrame(hcat(ncws...)', \"w\" .* string.(3:6))\n"
   ]
  },
  {
   "cell_type": "code",
   "execution_count": null,
   "id": "80ac14fc",
   "metadata": {},
   "outputs": [],
   "source": [
    "code_table = DataFrame(hcat(ncws...)', \"w\" .* string.(3:6))\n",
    "#code_table = \n",
    "insertcols!(code_table,1, (\"mhd\" => mds))\n",
    "\n",
    "insertcols!(code_table,1, (\"n\" => ns))\n",
    "#code_table = \n",
    "insertcols!(code_table,1, (\"q\" => qcs))\n",
    "insertcols!(code_table,1, (\"nImages\" => nImages))\n"
   ]
  },
  {
   "cell_type": "code",
   "execution_count": null,
   "id": "601e2e94",
   "metadata": {},
   "outputs": [],
   "source": [
    "code_table"
   ]
  },
  {
   "cell_type": "code",
   "execution_count": null,
   "id": "8ccbba73",
   "metadata": {},
   "outputs": [],
   "source": [
    "CSV.write(\"RS_code_spec_table.csv\", code_table)"
   ]
  }
 ],
 "metadata": {
  "kernelspec": {
   "display_name": "Julia 1.10.9",
   "language": "julia",
   "name": "julia-1.10"
  },
  "language_info": {
   "file_extension": ".jl",
   "mimetype": "application/julia",
   "name": "julia",
   "version": "1.10.9"
  }
 },
 "nbformat": 4,
 "nbformat_minor": 5
}
