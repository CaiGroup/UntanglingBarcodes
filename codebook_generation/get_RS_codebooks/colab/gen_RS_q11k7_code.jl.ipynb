{
 "cells": [
  {
   "cell_type": "markdown",
   "metadata": {},
   "source": [
    "# Reed-Solomon codebook generating Notebook - Colab version\n",
    "\n",
    "This notebook runs on [Google Colab](https://colab.research.google.com/github/CaiGroup/UntanglingBarcodes/blob/master/codebook_generation/get_RS_codebooks/colab/gen_RS_q11k7_code.jl.ipynb) to generate Reed-Solomon codebooks for seqFISH experiments\n",
    "\n",
    "To run this notebook, you will need to change to the Julia runtime environment. To do that select from the drop down menu:\n",
    "\n",
    "Runtime > Change runtime type\n",
    "\n",
    "In the \"Change runtime type\"  prompt window, select \"Julia\" (not julia x.xx.xx) from the Runtime type drop-down menu. Click Save."
   ]
  },
  {
   "cell_type": "code",
   "execution_count": null,
   "metadata": {},
   "outputs": [],
   "source": [
    "using Pkg\n",
    "# This notebook does not work with new versions of Nemo\n",
    "Pkg.add(name=\"Nemo\", version=\"0.36.2\");"
   ]
  },
  {
   "cell_type": "code",
   "execution_count": null,
   "metadata": {},
   "outputs": [],
   "source": [
    "using Nemo"
   ]
  },
  {
   "cell_type": "markdown",
   "metadata": {},
   "source": [
    "# Introduction\n",
    "\n",
    "This notebook shows how to generate codebooks for seqFISH experiments using [Reed-Solomon Codes](https://en.wikipedia.org/wiki/Reed%E2%80%93Solomon_error_correction). Reed-Solomon are part of a special class of error-correcting codes called [Maximum Distance Separable codes](https://en.wikipedia.org/wiki/Singleton_bound#MDS_codes) (MDS code) which achieve equality in the [Singleton bound](https://en.wikipedia.org/wiki/Singleton_bound). This means that MDS codes acheive the maximum possible extra difference between their codewords from every redundant parity check symbol, and gain the the most possible robustless to error for the increased cost of encoding information with more symbols.\n",
    "\n",
    "The number of codewords of a given weight in an MDS code weight is given by the the expression \n",
    "\n",
    "$(q-1)\\binom{w}{n}\\sum_{i=0}^{w-d}(-1)^i \\binom{i}{w-1}q^{w-d-i}$\n",
    "\n",
    "(Macwilliams and Sloan)\n"
   ]
  },
  {
   "cell_type": "markdown",
   "metadata": {},
   "source": [
    "## Set Reed-Solomon code parameters"
   ]
  },
  {
   "cell_type": "code",
   "execution_count": null,
   "metadata": {},
   "outputs": [],
   "source": [
    "q = 11\n",
    "k = 7"
   ]
  },
  {
   "cell_type": "code",
   "execution_count": null,
   "metadata": {},
   "outputs": [],
   "source": [
    "function def_RS_code(_q :: Int64, deg :: Int64, nmk :: Int64)\n",
    "    global q = _q\n",
    "    global k = (q-1) - nmk\n",
    "    F, α = FiniteField(q, deg, \"α\")\n",
    "    R, x = PolynomialRing(F, \"x\")\n",
    "    RR =  ResidueRing(R, x^(q^deg-1)-1)\n",
    "    gp = 1\n",
    "    for i = 1:nmk\n",
    "        gp = gp*RR(x - α^i)\n",
    "    end\n",
    "    return RR, R, gp, x, α\n",
    "end\n",
    "\n",
    "\n",
    "function cvt_fq_nmod_2_int(x::fq_nmod)\n",
    "    if iszero(x)\n",
    "        return 0\n",
    "    end\n",
    "    for i = 1:(q-1)\n",
    "        if iszero(i+x)\n",
    "            return q-i\n",
    "        end\n",
    "    end \n",
    "end\n",
    "\n",
    "function get_cw_array(cw)\n",
    "    coeffs = Array{Union{Int8, Nothing}}(nothing, q-1)\n",
    "    for i = 0:(q-2) #9\n",
    "        coeffs[i+1] = cvt_fq_nmod_2_int(coeff(cw.data,i))\n",
    "    end\n",
    "    \n",
    "    return coeffs\n",
    "end\n",
    "\n",
    "\n",
    "RR, R, gp, x, α = def_RS_code(q,1,q-1-k)"
   ]
  },
  {
   "cell_type": "markdown",
   "metadata": {},
   "source": [
    "We can pring the generating polynomial"
   ]
  },
  {
   "cell_type": "code",
   "execution_count": null,
   "metadata": {},
   "outputs": [],
   "source": [
    "gp"
   ]
  },
  {
   "cell_type": "code",
   "execution_count": null,
   "metadata": {},
   "outputs": [],
   "source": [
    "# function convert codeword from specialized math objects to an Int Array\n",
    "get_cw(i) = get_cw_array(gp*R(collect(Tuple(i)))) "
   ]
  },
  {
   "cell_type": "markdown",
   "metadata": {},
   "source": [
    "### Get the codewords"
   ]
  },
  {
   "cell_type": "code",
   "execution_count": null,
   "metadata": {},
   "outputs": [],
   "source": [
    "@time q11_k7 = map(get_cw, CartesianIndices(Tuple(fill(q,k))));"
   ]
  },
  {
   "cell_type": "code",
   "execution_count": null,
   "metadata": {},
   "outputs": [],
   "source": [
    "length(q11_k7)"
   ]
  },
  {
   "cell_type": "code",
   "execution_count": null,
   "metadata": {},
   "outputs": [],
   "source": [
    "q11_k7 = reshape(q11_k7, length(q11_k7))"
   ]
  },
  {
   "cell_type": "markdown",
   "metadata": {},
   "source": [
    "Let's count how many codewords there are of each weight. Compare to the output of Make_RS_Code_Table_expanded.jl"
   ]
  },
  {
   "cell_type": "code",
   "execution_count": null,
   "metadata": {},
   "outputs": [],
   "source": [
    "weights = [sum(map(cw -> sum(.~iszero.(cw)), q11_k7) .== w) for w in 0:10]\n",
    "weights"
   ]
  },
  {
   "cell_type": "code",
   "execution_count": null,
   "metadata": {},
   "outputs": [],
   "source": [
    "cb = []\n",
    "weights_en = [1,0,0,0,0,0,0,0,0,0,0]\n",
    "\n",
    "w4_cws = []\n",
    "w5_cws = []\n",
    "w6_cws = []\n",
    "niters = 0\n",
    "li1 = -1\n",
    "for cw in q11_k7 #CartesianIndices(Tuple(fill(q,k)))\n",
    "    weight = sum(cw .!= 0)\n",
    "    if weight == 4\n",
    "        push!(w4_cws, cw)\n",
    "    end\n",
    "    if weight == 5\n",
    "        push!(w5_cws, cw)\n",
    "    end\n",
    "    if weight == 6\n",
    "        w6_cws = []\n",
    "    end\n",
    "    for w = 3:10\n",
    "        if weight == w\n",
    "            weights_en[w+1] += 1\n",
    "        end\n",
    "    end\n",
    "end"
   ]
  },
  {
   "cell_type": "markdown",
   "metadata": {},
   "source": [
    "### Save the codebooks containing codewords of each weight"
   ]
  },
  {
   "cell_type": "code",
   "execution_count": null,
   "metadata": {},
   "outputs": [],
   "source": [
    "using DelimitedFiles\n",
    "open(\"RS_q\"*string(q)*\"_k\"*string(k)*\"_w4cb.csv\", \"w\") do io\n",
    "    writedlm(io, hcat(w4_cws...)',\",\")\n",
    "end"
   ]
  },
  {
   "cell_type": "code",
   "execution_count": null,
   "metadata": {},
   "outputs": [],
   "source": [
    "using DelimitedFiles\n",
    "open(\"RS_q\"*string(q)*\"_k\"*string(k)*\"_w5cb.csv\", \"w\") do io\n",
    "    writedlm(io, hcat(w5_cws...)',\",\")\n",
    "end"
   ]
  },
  {
   "cell_type": "code",
   "execution_count": null,
   "metadata": {},
   "outputs": [],
   "source": [
    "using DelimitedFiles\n",
    "open(\"RS_q\"*string(q)*\"_k\"*string(k)*\"_w6cb.csv\", \"w\") do io\n",
    "    writedlm(io, hcat(w6_cws...)',\",\")\n",
    "end"
   ]
  },
  {
   "cell_type": "code",
   "execution_count": null,
   "metadata": {},
   "outputs": [],
   "source": [
    "w4_cws"
   ]
  },
  {
   "cell_type": "markdown",
   "metadata": {},
   "source": [
    "### Get the parity check matrix"
   ]
  },
  {
   "cell_type": "code",
   "execution_count": null,
   "metadata": {},
   "outputs": [],
   "source": [
    "H = [cvt_fq_nmod_2_int((α^(i[1]))^i[2]) for i in CartesianIndices((q-k-1, q-1))]\n",
    "H"
   ]
  },
  {
   "cell_type": "markdown",
   "metadata": {},
   "source": [
    "### Check that the matrix product of the parity check matrix and all codewords is 0"
   ]
  },
  {
   "cell_type": "code",
   "execution_count": null,
   "metadata": {},
   "outputs": [],
   "source": [
    "all(map(cw -> all(iszero.(H*cw .% q)), w4_cws))"
   ]
  },
  {
   "cell_type": "code",
   "execution_count": null,
   "metadata": {},
   "outputs": [],
   "source": [
    "all(map(cw -> all(iszero.(H*cw .% q)), w5_cws))"
   ]
  },
  {
   "cell_type": "code",
   "execution_count": null,
   "metadata": {},
   "outputs": [],
   "source": [
    "all(map(cw -> all(iszero.(H*cw .% q)), w6_cws))"
   ]
  },
  {
   "cell_type": "markdown",
   "metadata": {},
   "source": [
    "### Save the parity check matrix"
   ]
  },
  {
   "cell_type": "code",
   "execution_count": null,
   "metadata": {},
   "outputs": [],
   "source": [
    "open(\"RS_q\"*string(q)*\"_k\"*string(k)*\"_H.csv\", \"w\") do io\n",
    "    writedlm(io, H,\",\")\n",
    "end"
   ]
  }
 ],
 "metadata": {
  "kernelspec": {
   "display_name": "Julia 1.11.1",
   "language": "julia",
   "name": "julia-1.11"
  },
  "language_info": {
   "file_extension": ".jl",
   "mimetype": "application/julia",
   "name": "julia",
   "version": "1.11.1"
  }
 },
 "nbformat": 4,
 "nbformat_minor": 4
}
