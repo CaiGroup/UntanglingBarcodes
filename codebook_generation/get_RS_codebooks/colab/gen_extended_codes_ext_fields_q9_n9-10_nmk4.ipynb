{
 "cells": [
  {
   "cell_type": "markdown",
   "metadata": {},
   "source": [
    "# Extended field Reed-Solomon codebook generating Notebook - Colab version\n",
    "\n",
    "This notebook runs on [Google Colab](https://colab.research.google.com/github/CaiGroup/UntanglingBarcodes/blob/master/codebook_generation/get_RS_codebooks/colab/gen_extended_codes_ext_fields_q9_n9-10_nmk4.ipynb) to generate Reed-Solomon codebooks with symbols from extended Finite Fields for seqFISH experiments\n",
    "\n",
    "To run this notebook, you will need to change to a Julia runtime environment. To do that select from the drop down menu:\n",
    "\n",
    "Runtime > Change runtime type\n",
    "\n",
    "In the \"Change runtime type\"  prompt window, select \"Julia\" from the Runtime type drop-down menu. Click Save."
   ]
  },
  {
   "cell_type": "code",
   "execution_count": null,
   "metadata": {},
   "outputs": [],
   "source": [
    "using Pkg\n",
    "# This notebook does not work with new versions of Nemo\n",
    "Pkg.add(name=\"Nemo\", version=\"0.36.2\");\n",
    "Pkg.add(\"Combinatorics\")\n",
    "Pkg.add(\"DataFrames\")\n",
    "Pkg.add(\"CSV\")"
   ]
  },
  {
   "cell_type": "code",
   "execution_count": null,
   "metadata": {},
   "outputs": [
    {
     "name": "stdout",
     "output_type": "stream",
     "text": [
      "\n",
      "Welcome to Nemo version 0.36.2\n",
      "\n",
      "Nemo comes with absolutely no warranty whatsoever\n",
      "\n"
     ]
    }
   ],
   "source": [
    "using Nemo\n",
    "using LinearAlgebra\n",
    "using Test\n",
    "using Combinatorics\n",
    "using DataFrames\n",
    "using CSV"
   ]
  },
  {
   "cell_type": "markdown",
   "metadata": {},
   "source": [
    "# Introduction\n",
    "\n",
    "This notebook shows how to generate codebooks for seqFISH experiments using [Reed-Solomon Codes](https://en.wikipedia.org/wiki/Reed%E2%80%93Solomon_error_correction). Reed-Solomon are part of a special class of error-correcting codes called [Maximum Distance Separable codes](https://en.wikipedia.org/wiki/Singleton_bound#MDS_codes) (MDS code) which achieve equality in the [Singleton bound](https://en.wikipedia.org/wiki/Singleton_bound). This means that MDS codes acheive the maximum possible extra difference between their codewords from every redundant parity check symbol, and gain the the most possible robustless to error for the increased cost of encoding information with more symbols.\n",
    "\n",
    "The number of codewords of a given weight in an MDS code weight is given by the the expression \n",
    "\n",
    "$(q-1)\\binom{w}{n}\\sum_{i=0}^{w-d}(-1)^i \\binom{i}{w-1}q^{w-d-i}$\n",
    "\n",
    "(Macwilliams and Sloan)\n",
    "\n"
   ]
  },
  {
   "cell_type": "code",
   "execution_count": 3,
   "metadata": {},
   "outputs": [
    {
     "data": {
      "text/plain": [
       "get_num_codewords_of_weight_vn (generic function with 1 method)"
      ]
     },
     "execution_count": 3,
     "metadata": {},
     "output_type": "execute_result"
    }
   ],
   "source": [
    "function get_num_codewords_of_weight_vn(q,n,w,d)\n",
    "    i = collect(0:(w-d))\n",
    "    (q-1)*binomial(n,w)*sum(((-1) .^ i) .* (binomial.(w-1, i)) .* (q .^ ((w - d) .- i)))\n",
    "end"
   ]
  },
  {
   "cell_type": "markdown",
   "metadata": {},
   "source": [
    "This example notebook shows how to generate a code for seqFISH using a Reed-Solomon code over an extension field. In this example we create a code using an alphabet of 9 elements, which can be achieved using the second order extension field of the finite field of 3 elements."
   ]
  },
  {
   "cell_type": "markdown",
   "metadata": {},
   "source": [
    "# Specify Code parameters\n",
    "Specify the paramters of the code that you want to generate. "
   ]
  },
  {
   "cell_type": "code",
   "execution_count": 4,
   "metadata": {},
   "outputs": [
    {
     "data": {
      "text/plain": [
       "5"
      ]
     },
     "execution_count": 4,
     "metadata": {},
     "output_type": "execute_result"
    }
   ],
   "source": [
    "p = 3 # the number of elements in the base field\n",
    "deg = 2 # the order of of the finite field, in this case 3^2 gives 9 elements\n",
    "nmk = 4 # the number of parity check symbols\n",
    "wmax = 6 # the maximum weight of codewords to save\n",
    "wmin=5 # the minimum weight of codewords to save"
   ]
  },
  {
   "cell_type": "code",
   "execution_count": null,
   "metadata": {},
   "outputs": [],
   "source": []
  },
  {
   "cell_type": "code",
   "execution_count": 5,
   "metadata": {},
   "outputs": [
    {
     "data": {
      "text/plain": [
       "get_num_codewords_of_weight (generic function with 1 method)"
      ]
     },
     "execution_count": 5,
     "metadata": {},
     "output_type": "execute_result"
    }
   ],
   "source": [
    "function def_RS_code(p :: Int64, deg :: Int64, nmk :: Int64)\n",
    "    @assert is_prime(p)\n",
    "    @assert deg > 0\n",
    "    @assert nmk > 0\n",
    "    global q = p^deg\n",
    "    global q_uint8 = UInt8(q)\n",
    "    global n = q-1\n",
    "    global k = (q-1) - nmk\n",
    "    F, α = FiniteField(p, deg, \"α\")\n",
    "    R, x = PolynomialRing(F, \"x\")\n",
    "    RR =  ResidueRing(R, x^(q-1)-1)\n",
    "    gp = 1\n",
    "    for i = 1:nmk\n",
    "        gp = gp*RR(x - α^i)\n",
    "    end\n",
    "    return F, RR, R, gp, x, α\n",
    "end\n",
    "\n",
    "\n",
    "function cvt_fq_nmod_2_int(x :: Nemo.fq_nmod)\n",
    "    if iszero(x)\n",
    "        return 0\n",
    "    end\n",
    "    for i = 1:(q-1)\n",
    "        if iszero(i+x)\n",
    "            return q-i\n",
    "        end\n",
    "    end \n",
    "end\n",
    "\n",
    "function get_cw_array(cw)\n",
    "    coeffs = Array{Union{Int8, Nothing}}(nothing, q-1)\n",
    "    for i = 0:(q-2) #9\n",
    "        coeffs[i+1] = cvt_fq_nmod_2_int(coeff(cw.data,i))\n",
    "    end\n",
    "    \n",
    "    return coeffs\n",
    "end\n",
    "\n",
    "function get_num_codewords_of_weight(q,w,d)\n",
    "    i = collect(0:(w-d))\n",
    "    (q-1)*binomial(q-1,w)*sum(((-1) .^ i) .* (binomial.(w-1, i)) .* (q .^ ((w - d) .- i)))\n",
    "end"
   ]
  },
  {
   "cell_type": "code",
   "execution_count": 6,
   "metadata": {},
   "outputs": [
    {
     "data": {
      "text/plain": [
       "(Finite field of degree 2 over GF(3), Residue ring of univariate polynomial ring modulo x^8 + 2, Univariate polynomial ring in x over GF(3^2), x^4 + (2*α + 2)*x^3 + x^2 + (2*α + 1)*x + α + 1, x, α)"
      ]
     },
     "execution_count": 6,
     "metadata": {},
     "output_type": "execute_result"
    }
   ],
   "source": [
    "F, RR, R, gp, x, α = def_RS_code(p,deg,nmk)"
   ]
  },
  {
   "cell_type": "code",
   "execution_count": 7,
   "metadata": {},
   "outputs": [
    {
     "data": {
      "text/plain": [
       "x^4 + (2*α + 2)*x^3 + x^2 + (2*α + 1)*x + α + 1"
      ]
     },
     "execution_count": 7,
     "metadata": {},
     "output_type": "execute_result"
    }
   ],
   "source": [
    "gp"
   ]
  },
  {
   "cell_type": "code",
   "execution_count": 8,
   "metadata": {},
   "outputs": [
    {
     "data": {
      "text/plain": [
       "AbstractAlgebra.Generic.ResidueRingElem{fqPolyRepPolyRingElem}"
      ]
     },
     "execution_count": 8,
     "metadata": {},
     "output_type": "execute_result"
    }
   ],
   "source": [
    "typeof(gp)"
   ]
  },
  {
   "cell_type": "code",
   "execution_count": 9,
   "metadata": {},
   "outputs": [
    {
     "data": {
      "text/plain": [
       "4-element Vector{fqPolyRepFieldElem}:\n",
       " 0\n",
       " 1\n",
       " 2\n",
       " 0"
      ]
     },
     "execution_count": 9,
     "metadata": {},
     "output_type": "execute_result"
    }
   ],
   "source": [
    "F.([0,1,2,3])"
   ]
  },
  {
   "cell_type": "code",
   "execution_count": 10,
   "metadata": {},
   "outputs": [
    {
     "data": {
      "text/plain": [
       "2×2 Matrix{fqPolyRepFieldElem}:\n",
       " 1  0\n",
       " 0  1"
      ]
     },
     "execution_count": 10,
     "metadata": {},
     "output_type": "execute_result"
    }
   ],
   "source": [
    "F.(Matrix(I(2)))"
   ]
  },
  {
   "cell_type": "code",
   "execution_count": 11,
   "metadata": {},
   "outputs": [
    {
     "data": {
      "text/plain": [
       "4"
      ]
     },
     "execution_count": 11,
     "metadata": {},
     "output_type": "execute_result"
    }
   ],
   "source": [
    "k"
   ]
  },
  {
   "cell_type": "markdown",
   "metadata": {},
   "source": [
    "Get the generator and parity check matrices of the base Reed-Solomon code and print the parity check matrix."
   ]
  },
  {
   "cell_type": "code",
   "execution_count": 12,
   "metadata": {},
   "outputs": [
    {
     "data": {
      "text/plain": [
       "4×8 Matrix{fqPolyRepFieldElem}:\n",
       " 1  α        α + 1    2*α + 1  2  2*α    2*α + 2  α + 2\n",
       " 1  α + 1    2        2*α + 2  1  α + 1  2        2*α + 2\n",
       " 1  2*α + 1  2*α + 2  α        2  α + 2  α + 1    2*α\n",
       " 1  2        1        2        1  2      1        2"
      ]
     },
     "execution_count": 12,
     "metadata": {},
     "output_type": "execute_result"
    }
   ],
   "source": [
    "gm_fq_band_form = fill(α-α, k, q-1)\n",
    "for i in 1:k\n",
    "    shift = gp*x^(i-1)\n",
    "    gm_fq_band_form[i,:] = coeff.(shift.data, 0:(q-2))\n",
    "end\n",
    "gm_fqn = matrix_space(F, k,q-1)(gm_fq_band_form)\n",
    "H_fq = [(α^(i[1]))^(i[2]-1) for i in CartesianIndices((q-k-1, q-1))]\n",
    "Matrix(H_fq)"
   ]
  },
  {
   "cell_type": "markdown",
   "metadata": {},
   "source": [
    "Check that the generator and parity check matrices are indeed orthogonal to each other"
   ]
  },
  {
   "cell_type": "code",
   "execution_count": 13,
   "metadata": {},
   "outputs": [
    {
     "data": {
      "text/plain": [
       "\u001b[32m\u001b[1mTest Passed\u001b[22m\u001b[39m"
      ]
     },
     "execution_count": 13,
     "metadata": {},
     "output_type": "execute_result"
    }
   ],
   "source": [
    "@test all(iszero.(Matrix(gm_fqn)*transpose(H_fq)))"
   ]
  },
  {
   "cell_type": "markdown",
   "metadata": {},
   "source": [
    "Get Parity check Matrices of singly and doubly extended code and print them."
   ]
  },
  {
   "cell_type": "code",
   "execution_count": 14,
   "metadata": {},
   "outputs": [
    {
     "data": {
      "text/plain": [
       "4×9 Matrix{fqPolyRepFieldElem}:\n",
       " 0  1  α        α + 1    2*α + 1  2  2*α    2*α + 2  α + 2\n",
       " 0  1  α + 1    2        2*α + 2  1  α + 1  2        2*α + 2\n",
       " 0  1  2*α + 1  2*α + 2  α        2  α + 2  α + 1    2*α\n",
       " 1  1  2        1        2        1  2      1        2"
      ]
     },
     "execution_count": 14,
     "metadata": {},
     "output_type": "execute_result"
    }
   ],
   "source": [
    "ext1col = fill(F(0), q-k-1)\n",
    "ext1col[end] = F(1)\n",
    "ext2col = fill(F(0), q-k-1)\n",
    "ext2col[1] = F(1)\n",
    "H_fq_ext1 = hcat(ext1col, H_fq)"
   ]
  },
  {
   "cell_type": "code",
   "execution_count": 15,
   "metadata": {},
   "outputs": [
    {
     "data": {
      "text/plain": [
       "4×10 Matrix{fqPolyRepFieldElem}:\n",
       " 1  0  1  α        α + 1    2*α + 1  2  2*α    2*α + 2  α + 2\n",
       " 0  0  1  α + 1    2        2*α + 2  1  α + 1  2        2*α + 2\n",
       " 0  0  1  2*α + 1  2*α + 2  α        2  α + 2  α + 1    2*α\n",
       " 0  1  1  2        1        2        1  2      1        2"
      ]
     },
     "execution_count": 15,
     "metadata": {},
     "output_type": "execute_result"
    }
   ],
   "source": [
    "H_fq_ext2 = hcat(ext2col, H_fq_ext1)"
   ]
  },
  {
   "cell_type": "markdown",
   "metadata": {},
   "source": [
    "Find the row-reduced echelon form (linear algebra terminology) or systematic form (coding theory terminology) of the parity check matrices, then print them."
   ]
  },
  {
   "cell_type": "code",
   "execution_count": 16,
   "metadata": {},
   "outputs": [
    {
     "data": {
      "text/plain": [
       "4×9 Matrix{fqPolyRepFieldElem}:\n",
       " 1  0  0  0  2*α + 1  2*α      2*α + 1  α + 1  2*α\n",
       " 0  1  0  0  2*α + 2  2*α      2*α      α + 2  2*α + 1\n",
       " 0  0  1  0  2*α      2*α + 1  2*α + 2  α + 2  2*α\n",
       " 0  0  0  1  α + 2    α + 2    α        2*α    α + 1"
      ]
     },
     "execution_count": 16,
     "metadata": {},
     "output_type": "execute_result"
    }
   ],
   "source": [
    "H_fq_ext1_rref = rref(matrix_space(F, q-k-1, q)(H_fq_ext1))[2]\n",
    "H_fq_ext2_rref = rref(matrix_space(F, q-k-1, q+1)(H_fq_ext2))[2]\n",
    "Matrix(H_fq_ext1_rref)"
   ]
  },
  {
   "cell_type": "code",
   "execution_count": 17,
   "metadata": {},
   "outputs": [
    {
     "data": {
      "text/plain": [
       "4×10 Matrix{fqPolyRepFieldElem}:\n",
       " 1  0  0  0  α + 1  α      α        2*α + 1  α + 2    2\n",
       " 0  1  0  0  2*α    2*α    2*α + 2  α        2*α + 2  2\n",
       " 0  0  1  0  α      2*α    2*α + 1  1        1        α + 2\n",
       " 0  0  0  1  2      α + 1  α + 2    α + 2    2*α + 2  α + 2"
      ]
     },
     "execution_count": 17,
     "metadata": {},
     "output_type": "execute_result"
    }
   ],
   "source": [
    "Matrix(H_fq_ext2_rref)"
   ]
  },
  {
   "cell_type": "code",
   "execution_count": 18,
   "metadata": {},
   "outputs": [
    {
     "data": {
      "text/plain": [
       "4×5 Matrix{fqPolyRepFieldElem}:\n",
       " 2*α + 1  2*α      2*α + 1  α + 1  2*α\n",
       " 2*α + 2  2*α      2*α      α + 2  2*α + 1\n",
       " 2*α      2*α + 1  2*α + 2  α + 2  2*α\n",
       " α + 2    α + 2    α        2*α    α + 1"
      ]
     },
     "execution_count": 18,
     "metadata": {},
     "output_type": "execute_result"
    }
   ],
   "source": [
    "Matrix(H_fq_ext1_rref)[:, (n-k+1):end]"
   ]
  },
  {
   "cell_type": "markdown",
   "metadata": {},
   "source": [
    "Get the corresponding generator matrices for each extended code, and then print them."
   ]
  },
  {
   "cell_type": "code",
   "execution_count": 19,
   "metadata": {},
   "outputs": [
    {
     "data": {
      "text/plain": [
       "6×10 Matrix{fqPolyRepFieldElem}:\n",
       " 2*α + 2  α      2*α      1        1  0  0  0  0  0\n",
       " 2*α      α      α        2*α + 2  0  1  0  0  0  0\n",
       " 2*α      α + 1  α + 2    2*α + 1  0  0  1  0  0  0\n",
       " α + 2    2*α    2        2*α + 1  0  0  0  1  0  0\n",
       " 2*α + 1  α + 1  2        α + 1    0  0  0  0  1  0\n",
       " 1        1      2*α + 1  2*α + 1  0  0  0  0  0  1"
      ]
     },
     "execution_count": 19,
     "metadata": {},
     "output_type": "execute_result"
    }
   ],
   "source": [
    "gm_ext1 = hcat(transpose(-Matrix(H_fq_ext1_rref)[:, (n-k+1):end]), F.(Matrix(I(k+1))))\n",
    "gm_ext2 = hcat(transpose(-Matrix(H_fq_ext2_rref)[:, (n-k+1):end]), F.(Matrix(I(k+2))))"
   ]
  },
  {
   "cell_type": "code",
   "execution_count": 20,
   "metadata": {},
   "outputs": [
    {
     "data": {
      "text/plain": [
       "5×9 Matrix{fqPolyRepFieldElem}:\n",
       " α + 2    α + 1    α        2*α + 1  1  0  0  0  0\n",
       " α        α        α + 2    2*α + 1  0  1  0  0  0\n",
       " α + 2    α        α + 1    2*α      0  0  1  0  0\n",
       " 2*α + 2  2*α + 1  2*α + 1  α        0  0  0  1  0\n",
       " α        α + 2    α        2*α + 2  0  0  0  0  1"
      ]
     },
     "execution_count": 20,
     "metadata": {},
     "output_type": "execute_result"
    }
   ],
   "source": [
    "gm_ext1"
   ]
  },
  {
   "cell_type": "markdown",
   "metadata": {},
   "source": [
    "Check that the generator matrices of the extended Reed-Solomon codes are indeed orthogonal to their parity check matrices."
   ]
  },
  {
   "cell_type": "code",
   "execution_count": 21,
   "metadata": {},
   "outputs": [
    {
     "data": {
      "text/plain": [
       "9×5 transpose(::Matrix{fqPolyRepFieldElem}) with eltype fqPolyRepFieldElem:\n",
       " α + 2    α        α + 2  2*α + 2  α\n",
       " α + 1    α        α      2*α + 1  α + 2\n",
       " α        α + 2    α + 1  2*α + 1  α\n",
       " 2*α + 1  2*α + 1  2*α    α        2*α + 2\n",
       " 1        0        0      0        0\n",
       " 0        1        0      0        0\n",
       " 0        0        1      0        0\n",
       " 0        0        0      1        0\n",
       " 0        0        0      0        1"
      ]
     },
     "execution_count": 21,
     "metadata": {},
     "output_type": "execute_result"
    }
   ],
   "source": [
    "transpose(gm_ext1) "
   ]
  },
  {
   "cell_type": "code",
   "execution_count": 22,
   "metadata": {},
   "outputs": [
    {
     "data": {
      "text/plain": [
       "4×9 Matrix{fqPolyRepFieldElem}:\n",
       " 1  0  0  0  2*α + 1  2*α      2*α + 1  α + 1  2*α\n",
       " 0  1  0  0  2*α + 2  2*α      2*α      α + 2  2*α + 1\n",
       " 0  0  1  0  2*α      2*α + 1  2*α + 2  α + 2  2*α\n",
       " 0  0  0  1  α + 2    α + 2    α        2*α    α + 1"
      ]
     },
     "execution_count": 22,
     "metadata": {},
     "output_type": "execute_result"
    }
   ],
   "source": [
    "Matrix(H_fq_ext1_rref)"
   ]
  },
  {
   "cell_type": "code",
   "execution_count": 23,
   "metadata": {},
   "outputs": [
    {
     "name": "stdout",
     "output_type": "stream",
     "text": [
      "\u001b[0m\u001b[1mTest Summary: | \u001b[22m\u001b[32m\u001b[1mPass  \u001b[22m\u001b[39m\u001b[36m\u001b[1mTotal  \u001b[22m\u001b[39m\u001b[0m\u001b[1mTime\u001b[22m\n",
      "test set      | \u001b[32m   2  \u001b[39m\u001b[36m    2  \u001b[39m\u001b[0m0.2s\n"
     ]
    }
   ],
   "source": [
    "H_fq_ext1_rref_mat = Matrix(H_fq_ext1_rref)\n",
    "H_fq_ext2_rref_mat = Matrix(H_fq_ext2_rref)\n",
    "@testset begin\n",
    "    @test all(iszero.(H_fq_ext1_rref_mat * transpose(gm_ext1)))\n",
    "    @test all(iszero.(H_fq_ext2_rref_mat * transpose(gm_ext2)))\n",
    "end;"
   ]
  },
  {
   "cell_type": "markdown",
   "metadata": {},
   "source": [
    "Define function to find codewords of the desired weight in the codes and test that the results agree with theoretical parameters."
   ]
  },
  {
   "cell_type": "code",
   "execution_count": 24,
   "metadata": {},
   "outputs": [
    {
     "data": {
      "text/plain": [
       "find_codewords_of_desired_weights (generic function with 1 method)"
      ]
     },
     "execution_count": 24,
     "metadata": {},
     "output_type": "execute_result"
    }
   ],
   "source": [
    "function find_codewords_of_desired_weights(G, H, q, k, n, n_extended, wmin, wmax)\n",
    "    cbs = [zeros(F, 0, n+n_extended) for w in wmin:wmax]\n",
    "    #cu_gmsp = CuArray{UInt16}(G[:, 1:(n-k)])\n",
    "    #cu_H = CuArray{UInt16}(H)\n",
    "    cu_gmsp = G[:, 1:(n-k)]\n",
    "    cu_H = H\n",
    "    println(cu_H)\n",
    "    for nnmessage_nzeros = maximum([1, wmin-(n-k)]):minimum([wmax, k+n_extended])\n",
    "        #message_nonzeros = CuArray{UInt16}(undef, (q-1)^nnmessage_nzeros, nnmessage_nzeros)\n",
    "        message_nonzeros = F.(Array{UInt16}(undef, (q-1)^nnmessage_nzeros, nnmessage_nzeros))\n",
    "        for i in 1:nnmessage_nzeros\n",
    "            #message_nonzeros[:, i] .= vcat(repeat(CUDA.fill.(1:(q-1), (q-1)^(i-1)), (q-1)^(nnmessage_nzeros-i))...)\n",
    "            message_nonzeros[:, i] .= vcat(repeat(fill.(α.^(1:(q-1)), (q-1)^(i-1)), (q-1)^(nnmessage_nzeros-i))...)\n",
    "        end\n",
    "        #message_array = CuArray{UInt16}(undef, (q-1)^nnmessage_nzeros, k+n_extended)\n",
    "        message_array = F.(Array{UInt16}(undef, (q-1)^nnmessage_nzeros, k+n_extended))\n",
    "        combs = combinations(1:(k+n_extended), nnmessage_nzeros)\n",
    "\n",
    "        for comb in combs\n",
    "            message_array .= F(0)\n",
    "            message_array[:, comb] .= message_nonzeros\n",
    "            \n",
    "            pcs = message_array*cu_gmsp\n",
    "            cws= hcat(pcs, message_array)\n",
    "            @assert all(cu_H * transpose(cws) .== 0 )\n",
    "\n",
    "            ws = sum(.~iszero.(cws), dims=2)\n",
    "            ws = reshape(ws, length(ws))\n",
    "\n",
    "            for (i, wi) in enumerate(wmin:wmax)\n",
    "                cbs[i] = vcat(cbs[i], (cws[findall(w -> w == wi, ws), :]))\n",
    "            end     \n",
    "        end\n",
    "    end\n",
    "\n",
    "    @testset begin\n",
    "        for (i, w) in enumerate(wmin:wmax)\n",
    "            theoretical_ncws = get_num_codewords_of_weight_vn(q,q-1+n_extended,w,n-k+1)\n",
    "            if theoretical_ncws > 0\n",
    "                @test theoretical_ncws == size(cbs[i])[1]\n",
    "                println(\"w$w: \", size(cbs[i])[1])\n",
    "            else\n",
    "                @test length(cbs[i]) == 0\n",
    "            end\n",
    "        end\n",
    "    end\n",
    "\n",
    "    return cbs\n",
    "end"
   ]
  },
  {
   "cell_type": "markdown",
   "metadata": {},
   "source": [
    "Find codebooks for the singly extended code."
   ]
  },
  {
   "cell_type": "code",
   "execution_count": 25,
   "metadata": {},
   "outputs": [
    {
     "name": "stdout",
     "output_type": "stream",
     "text": [
      "fqPolyRepFieldElem[1 0 0 0 2*α + 1 2*α 2*α + 1 α + 1 2*α; 0 1 0 0 2*α + 2 2*α 2*α α + 2 2*α + 1; 0 0 1 0 2*α 2*α + 1 2*α + 2 α + 2 2*α; 0 0 0 1 α + 2 α + 2 α 2*α α + 1]\n",
      "w5: 1008\n",
      "w6: 2688\n",
      "\u001b[0m\u001b[1mTest Summary: | \u001b[22m\u001b[32m\u001b[1mPass  \u001b[22m\u001b[39m\u001b[36m\u001b[1mTotal  \u001b[22m\u001b[39m\u001b[0m\u001b[1mTime\u001b[22m\n",
      "test set      | \u001b[32m   2  \u001b[39m\u001b[36m    2  \u001b[39m\u001b[0m0.1s\n"
     ]
    },
    {
     "data": {
      "text/plain": [
       "2-element Vector{Matrix{fqPolyRepFieldElem}}:\n",
       " [1 2*α + 1 … 0 0; α 2 … 0 0; … ; 0 0 … 2*α α + 2; 0 0 … 2*α + 2 1]\n",
       " [α + 2 2 … 0 0; 2*α + 1 α … 0 0; … ; 0 2*α + 1 … 1 1; α + 1 0 … 1 1]"
      ]
     },
     "execution_count": 25,
     "metadata": {},
     "output_type": "execute_result"
    }
   ],
   "source": [
    "cbs_ext1 = find_codewords_of_desired_weights(gm_ext1, H_fq_ext1_rref_mat, q, k, n, 1, wmin, wmax) "
   ]
  },
  {
   "cell_type": "code",
   "execution_count": 26,
   "metadata": {},
   "outputs": [
    {
     "data": {
      "text/plain": [
       "2-element Vector{Matrix{fqPolyRepFieldElem}}:\n",
       " [1 2*α + 1 … 0 0; α 2 … 0 0; … ; 0 0 … 2*α α + 2; 0 0 … 2*α + 2 1]\n",
       " [α + 2 2 … 0 0; 2*α + 1 α … 0 0; … ; 0 2*α + 1 … 1 1; α + 1 0 … 1 1]"
      ]
     },
     "execution_count": 26,
     "metadata": {},
     "output_type": "execute_result"
    }
   ],
   "source": [
    "cbs_ext1"
   ]
  },
  {
   "cell_type": "code",
   "execution_count": 27,
   "metadata": {},
   "outputs": [
    {
     "name": "stdout",
     "output_type": "stream",
     "text": [
      "fqPolyRepFieldElem[1 0 0 0 α + 1 α α 2*α + 1 α + 2 2; 0 1 0 0 2*α 2*α 2*α + 2 α 2*α + 2 2; 0 0 1 0 α 2*α 2*α + 1 1 1 α + 2; 0 0 0 1 2 α + 1 α + 2 α + 2 2*α + 2 α + 2]\n",
      "w5: 2016\n",
      "w6: 6720\n",
      "\u001b[0m\u001b[1mTest Summary: | \u001b[22m\u001b[32m\u001b[1mPass  \u001b[22m\u001b[39m\u001b[36m\u001b[1mTotal  \u001b[22m\u001b[39m\u001b[0m\u001b[1mTime\u001b[22m\n",
      "test set      | \u001b[32m   2  \u001b[39m\u001b[36m    2  \u001b[39m\u001b[0m0.0s\n"
     ]
    },
    {
     "data": {
      "text/plain": [
       "2-element Vector{Matrix{fqPolyRepFieldElem}}:\n",
       " [α + 2 α + 1 … 0 0; 1 2*α + 1 … 0 0; … ; 0 0 … 2*α α + 2; 0 0 … 2*α + 2 1]\n",
       " [2*α 2 … 0 0; 2*α + 1 2*α … 0 0; … ; 0 0 … 2*α 1; 0 0 … α + 2 1]"
      ]
     },
     "execution_count": 27,
     "metadata": {},
     "output_type": "execute_result"
    }
   ],
   "source": [
    "cbs_ext2 = find_codewords_of_desired_weights(gm_ext2, H_fq_ext2_rref_mat, q, k, n, 2, wmin, wmax) "
   ]
  },
  {
   "cell_type": "code",
   "execution_count": 28,
   "metadata": {},
   "outputs": [
    {
     "data": {
      "text/plain": [
       "Dict{fqPolyRepFieldElem, String} with 9 entries:\n",
       "  α + 1   => \"α²\"\n",
       "  0       => \"0\"\n",
       "  2*α + 1 => \"α³\"\n",
       "  2       => \"α⁴\"\n",
       "  α       => \"α\"\n",
       "  α + 2   => \"α⁷\"\n",
       "  1       => \"1\"\n",
       "  2*α     => \"α⁵\"\n",
       "  2*α + 2 => \"α⁶\""
      ]
     },
     "execution_count": 28,
     "metadata": {},
     "output_type": "execute_result"
    }
   ],
   "source": [
    "#powdict = Dict([α^i => \"α\" * string(i) for i in 1:(q-2)])\n",
    "α_powers = [\"α\", \"α²\", \"α³\", \"α⁴\", \"α⁵\", \"α⁶\", \"α⁷\"]\n",
    "powdict = Dict([α^i => α_powers[i] for i in 1:(q-2)])\n",
    "powdict[α^(q-1)] = \"1\"\n",
    "powdict[α - α] = \"0\"\n",
    "get_cw(p) = map(fqelem -> powdict[fqelem], coeff.(p.data,0:(q-2))) \n",
    "powdict"
   ]
  },
  {
   "cell_type": "code",
   "execution_count": null,
   "metadata": {},
   "outputs": [
    {
     "name": "stdout",
     "output_type": "stream",
     "text": [
      "saved RS_q9_n9_k5_w5cb.csv\n",
      "saved RS_q9_n9_k5_w6cb.csv\n"
     ]
    }
   ],
   "source": [
    "\n",
    "for (i, w) in enumerate(wmin:wmax) #[3,4,5,6])\n",
    "    if length(cbs_ext1[i]) > 0\n",
    "        cbdf = DataFrame(map(s -> powdict[s], cbs_ext1[i]), \"block\".*string.(1:(n+1)))\n",
    "        insertcols!(cbdf, 1, (\"gene_name\" => 1:nrow(cbdf)))\n",
    "        CSV.write(\"RS_q\"*string(q)*\"_n\"*string(q)*\"_k\"*string(k+1)*\"_w\"*string(w)*\"cb.csv\", cbdf)\n",
    "        println(\"saved RS_q\"*string(q)*\"_n\"*string(q)*\"_k\"*string(k+1)*\"_w\"*string(w)*\"cb.csv\")\n",
    "    end\n",
    "end;\n",
    "\n",
    "\n"
   ]
  },
  {
   "cell_type": "code",
   "execution_count": null,
   "metadata": {},
   "outputs": [
    {
     "name": "stdout",
     "output_type": "stream",
     "text": [
      "saved RS_q9_n10_k6_w5cb.csv\n",
      "saved RS_q9_n10_k6_w6cb.csv\n"
     ]
    }
   ],
   "source": [
    "for (i, w) in enumerate(wmin:wmax) #[3,4,5,6])\n",
    "    if length(cbs_ext2[i]) > 0\n",
    "        cbdf = DataFrame(map(s -> powdict[s], cbs_ext2[i]), \"block\".*string.(1:(n+2)))\n",
    "        insertcols!(cbdf, 1, (\"gene_name\" => 1:nrow(cbdf)))\n",
    "        CSV.write(\"RS_q\"*string(q)*\"_n\"*string(q+1)*\"_k\"*string(k+2)*\"_w\"*string(w)*\"cb.csv\", cbdf)\n",
    "        println(\"saved RS_q\"*string(q)*\"_n\"*string(q+1)*\"_k\"*string(k+2)*\"_w\"*string(w)*\"cb.csv\")\n",
    "    end\n",
    "end;"
   ]
  },
  {
   "cell_type": "code",
   "execution_count": 31,
   "metadata": {},
   "outputs": [
    {
     "name": "stdout",
     "output_type": "stream",
     "text": [
      "RS_q9_n9_k5_H.csv\n"
     ]
    }
   ],
   "source": [
    "using DelimitedFiles\n",
    "println(\"RS_q\"*string(q)*\"_n\"*string(q)*\"_k\"*string(k+1)*\"_H.csv\")\n",
    "open(\"RS_q\"*string(q)*\"_n\"*string(q)*\"_k\"*string(k+1)*\"_H.csv\", \"w\") do io\n",
    "    writedlm(io, map(s -> powdict[s], H_fq_ext1_rref_mat),\",\")\n",
    "end"
   ]
  },
  {
   "cell_type": "code",
   "execution_count": 32,
   "metadata": {},
   "outputs": [
    {
     "name": "stdout",
     "output_type": "stream",
     "text": [
      "RS_q9_n10_k6_H.csv\n"
     ]
    }
   ],
   "source": [
    "using DelimitedFiles\n",
    "println(\"RS_q\"*string(q)*\"_n\"*string(q+1)*\"_k\"*string(k+2)*\"_H.csv\")\n",
    "open(\"RS_q\"*string(q)*\"_n\"*string(q+1)*\"_k\"*string(k+2)*\"_H.csv\", \"w\") do io\n",
    "    writedlm(io, map(s -> powdict[s], H_fq_ext2_rref_mat),\",\")\n",
    "end"
   ]
  }
 ],
 "metadata": {
  "kernelspec": {
   "display_name": "Julia 1.11.1",
   "language": "julia",
   "name": "julia-1.11"
  },
  "language_info": {
   "file_extension": ".jl",
   "mimetype": "application/julia",
   "name": "julia",
   "version": "1.11.1"
  }
 },
 "nbformat": 4,
 "nbformat_minor": 4
}
